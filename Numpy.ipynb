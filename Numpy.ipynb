{
 "cells": [
  {
   "cell_type": "markdown",
   "id": "88e3db7c-3978-4521-8a66-3c6dc09157c6",
   "metadata": {},
   "source": [
    "# Matrix Multiplication\n",
    "- Matrix A --> (m,n)\n",
    "- Matrix B --> (p,q)\n",
    "- Matrix Multiplication (Dot Product) --> If n=p\n",
    "- The output of the Dot product --> (m,q)"
   ]
  },
  {
   "cell_type": "code",
   "execution_count": 4,
   "id": "32693d3c-bbb8-45b7-948f-e778af83cb99",
   "metadata": {},
   "outputs": [],
   "source": [
    "A = (2,2)\n",
    "B = (2,2)"
   ]
  },
  {
   "cell_type": "code",
   "execution_count": 8,
   "id": "f7e20c79-2433-4e24-afcf-906d60e9a66a",
   "metadata": {},
   "outputs": [
    {
     "name": "stdout",
     "output_type": "stream",
     "text": [
      "Row:  (0, 0)\n",
      "Column:  (0, 0)\n",
      "Row:  (0, 1)\n",
      "Column:  (1, 0)\n",
      "Row:  (0, 0)\n",
      "Column:  (0, 1)\n",
      "Row:  (0, 1)\n",
      "Column:  (1, 1)\n",
      "Row:  (1, 0)\n",
      "Column:  (0, 0)\n",
      "Row:  (1, 1)\n",
      "Column:  (1, 0)\n",
      "Row:  (1, 0)\n",
      "Column:  (0, 1)\n",
      "Row:  (1, 1)\n",
      "Column:  (1, 1)\n"
     ]
    }
   ],
   "source": [
    "for i in range(A[0]):\n",
    "    for j in range(B[1]):\n",
    "        for k in range(A[1]):\n",
    "            print(\"Row: \",(i,k))\n",
    "            print(\"Column: \",(k,j))"
   ]
  },
  {
   "cell_type": "code",
   "execution_count": 7,
   "id": "75213507-f06f-4d8c-953e-320cf34d7555",
   "metadata": {},
   "outputs": [
    {
     "data": {
      "text/plain": [
       "2"
      ]
     },
     "execution_count": 7,
     "metadata": {},
     "output_type": "execute_result"
    }
   ],
   "source": [
    "A[0]"
   ]
  },
  {
   "cell_type": "code",
   "execution_count": null,
   "id": "f7b69b4b-e02c-43bd-b096-db3772c484bd",
   "metadata": {},
   "outputs": [],
   "source": []
  }
 ],
 "metadata": {
  "kernelspec": {
   "display_name": "Python 3 (ipykernel)",
   "language": "python",
   "name": "python3"
  },
  "language_info": {
   "codemirror_mode": {
    "name": "ipython",
    "version": 3
   },
   "file_extension": ".py",
   "mimetype": "text/x-python",
   "name": "python",
   "nbconvert_exporter": "python",
   "pygments_lexer": "ipython3",
   "version": "3.11.3"
  }
 },
 "nbformat": 4,
 "nbformat_minor": 5
}
