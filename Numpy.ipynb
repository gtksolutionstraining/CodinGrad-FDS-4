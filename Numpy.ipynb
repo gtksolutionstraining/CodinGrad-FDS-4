{
 "cells": [
  {
   "cell_type": "markdown",
   "id": "88e3db7c-3978-4521-8a66-3c6dc09157c6",
   "metadata": {},
   "source": [
    "# Matrix Multiplication\n",
    "- Matrix A --> (m,n)\n",
    "- Matrix B --> (p,q)\n",
    "- Matrix Multiplication (Dot Product) --> If n=p\n",
    "- The output of the Dot product --> (m,q)"
   ]
  },
  {
   "cell_type": "code",
   "execution_count": 2,
   "id": "32693d3c-bbb8-45b7-948f-e778af83cb99",
   "metadata": {},
   "outputs": [],
   "source": [
    "A = (2,2)\n",
    "B = (2,2)"
   ]
  },
  {
   "cell_type": "code",
   "execution_count": 7,
   "id": "f7e20c79-2433-4e24-afcf-906d60e9a66a",
   "metadata": {},
   "outputs": [
    {
     "name": "stdout",
     "output_type": "stream",
     "text": [
      "Step (0,0):::\n",
      "\n",
      "Row:  (0, 0)\n",
      "Column:  (0, 0)\n",
      "Row:  (0, 1)\n",
      "Column:  (1, 0)\n",
      "\n",
      "\n",
      "Step (0,1):::\n",
      "\n",
      "Row:  (0, 0)\n",
      "Column:  (0, 1)\n",
      "Row:  (0, 1)\n",
      "Column:  (1, 1)\n",
      "\n",
      "\n",
      "Step (1,0):::\n",
      "\n",
      "Row:  (1, 0)\n",
      "Column:  (0, 0)\n",
      "Row:  (1, 1)\n",
      "Column:  (1, 0)\n",
      "\n",
      "\n",
      "Step (1,1):::\n",
      "\n",
      "Row:  (1, 0)\n",
      "Column:  (0, 1)\n",
      "Row:  (1, 1)\n",
      "Column:  (1, 1)\n",
      "\n",
      "\n"
     ]
    }
   ],
   "source": [
    "for i in range(A[0]):\n",
    "    for j in range(B[1]):\n",
    "        print(f\"Step ({i},{j}):::\\n\")\n",
    "        for k in range(A[1]):\n",
    "            print(\"Row: \",(i,k))\n",
    "            print(\"Column: \",(k,j))\n",
    "        print(\"\\n\")"
   ]
  },
  {
   "cell_type": "code",
   "execution_count": 9,
   "id": "f7b69b4b-e02c-43bd-b096-db3772c484bd",
   "metadata": {},
   "outputs": [],
   "source": [
    "import numpy as np"
   ]
  },
  {
   "cell_type": "code",
   "execution_count": 12,
   "id": "b11a1f9d-cbd0-4790-a36a-e6d70adb25ca",
   "metadata": {},
   "outputs": [],
   "source": [
    "A = [[1,2],[2,3]]"
   ]
  },
  {
   "cell_type": "code",
   "execution_count": 13,
   "id": "dedbc146-17cf-43cd-9324-3a4d9a1bd6aa",
   "metadata": {},
   "outputs": [
    {
     "data": {
      "text/plain": [
       "[[1, 2], [2, 3]]"
      ]
     },
     "execution_count": 13,
     "metadata": {},
     "output_type": "execute_result"
    }
   ],
   "source": [
    "A"
   ]
  },
  {
   "cell_type": "code",
   "execution_count": 14,
   "id": "c09b1b7c-893d-4502-bac6-a0a587818c62",
   "metadata": {},
   "outputs": [
    {
     "data": {
      "text/plain": [
       "list"
      ]
     },
     "execution_count": 14,
     "metadata": {},
     "output_type": "execute_result"
    }
   ],
   "source": [
    "type(A)"
   ]
  },
  {
   "cell_type": "code",
   "execution_count": 15,
   "id": "8e2f44ac-e40a-40f8-91be-786557d334b2",
   "metadata": {},
   "outputs": [],
   "source": [
    "matrixA = np.array(A) # Explicit Type Casting"
   ]
  },
  {
   "cell_type": "code",
   "execution_count": 16,
   "id": "7c8d1d37-42d1-4354-88a5-e5a85335d487",
   "metadata": {},
   "outputs": [
    {
     "data": {
      "text/plain": [
       "numpy.ndarray"
      ]
     },
     "execution_count": 16,
     "metadata": {},
     "output_type": "execute_result"
    }
   ],
   "source": [
    "type(matrixA)"
   ]
  },
  {
   "cell_type": "code",
   "execution_count": 17,
   "id": "26979b98-88e7-4c2f-b228-43bf76a76bf4",
   "metadata": {},
   "outputs": [
    {
     "data": {
      "text/plain": [
       "array([[1, 2],\n",
       "       [2, 3]])"
      ]
     },
     "execution_count": 17,
     "metadata": {},
     "output_type": "execute_result"
    }
   ],
   "source": [
    "matrixA"
   ]
  },
  {
   "cell_type": "code",
   "execution_count": 18,
   "id": "8cf589e6-04fc-4f94-aa92-e8af94dd9b6c",
   "metadata": {},
   "outputs": [],
   "source": [
    "B = [[1,2],[2,3]]"
   ]
  },
  {
   "cell_type": "code",
   "execution_count": 19,
   "id": "faa48727-af1e-4bfa-93d5-106580c3fe14",
   "metadata": {},
   "outputs": [],
   "source": [
    "matrixB = np.array(B)"
   ]
  },
  {
   "cell_type": "code",
   "execution_count": 20,
   "id": "0000ba87-e79c-41e9-b683-5f419a6c9799",
   "metadata": {},
   "outputs": [
    {
     "data": {
      "text/plain": [
       "array([[1, 2],\n",
       "       [2, 3]])"
      ]
     },
     "execution_count": 20,
     "metadata": {},
     "output_type": "execute_result"
    }
   ],
   "source": [
    "matrixB"
   ]
  },
  {
   "cell_type": "code",
   "execution_count": 22,
   "id": "15530fa5-bdc0-4c51-a4db-22722b8a5de8",
   "metadata": {},
   "outputs": [
    {
     "data": {
      "text/plain": [
       "[[5, 8], [8, 13]]"
      ]
     },
     "execution_count": 22,
     "metadata": {},
     "output_type": "execute_result"
    }
   ],
   "source": [
    "[[5,8],[8,13]]"
   ]
  },
  {
   "cell_type": "code",
   "execution_count": 25,
   "id": "d8f4bdfc-9588-441f-bb1b-8994aa662c2a",
   "metadata": {},
   "outputs": [],
   "source": [
    "(m,n) = matrixA.shape"
   ]
  },
  {
   "cell_type": "code",
   "execution_count": 26,
   "id": "4e9acbb7-4b9a-4641-8402-2df9432144ca",
   "metadata": {},
   "outputs": [],
   "source": [
    "(p,q) = matrixB.shape"
   ]
  },
  {
   "cell_type": "code",
   "execution_count": 27,
   "id": "c5014db7-738a-45ad-8ce1-b7c2bbf3d4cf",
   "metadata": {},
   "outputs": [
    {
     "name": "stdout",
     "output_type": "stream",
     "text": [
      "Matrix Multiplication is possible\n"
     ]
    }
   ],
   "source": [
    "if n==p:\n",
    "    print(\"Matrix Multiplication is possible\")\n",
    "else:\n",
    "    print(\"Matrix Multiplication is not possible\")"
   ]
  },
  {
   "cell_type": "code",
   "execution_count": 28,
   "id": "28c72a63-47a6-4fe8-89c7-7f774d661350",
   "metadata": {},
   "outputs": [],
   "source": [
    "matrixOutput_shape = (m,q)"
   ]
  },
  {
   "cell_type": "code",
   "execution_count": 29,
   "id": "b5fd41b7-8ccf-49a9-929d-df8c4903d2fd",
   "metadata": {},
   "outputs": [
    {
     "data": {
      "text/plain": [
       "(2, 2)"
      ]
     },
     "execution_count": 29,
     "metadata": {},
     "output_type": "execute_result"
    }
   ],
   "source": [
    "matrixOutput_shape"
   ]
  },
  {
   "cell_type": "code",
   "execution_count": 43,
   "id": "1296c2cc-cc2c-4b04-af69-4050bbcacf0a",
   "metadata": {},
   "outputs": [],
   "source": [
    "matrixC = np.zeros((matrixOutput_shape))"
   ]
  },
  {
   "cell_type": "code",
   "execution_count": 44,
   "id": "11cd7e87-1192-4874-9ec5-1e4575bd393b",
   "metadata": {},
   "outputs": [
    {
     "data": {
      "text/plain": [
       "array([[0., 0.],\n",
       "       [0., 0.]])"
      ]
     },
     "execution_count": 44,
     "metadata": {},
     "output_type": "execute_result"
    }
   ],
   "source": [
    "matrixC"
   ]
  },
  {
   "cell_type": "code",
   "execution_count": 58,
   "id": "8e8f447f-6b86-4fc4-8e05-a597f546895b",
   "metadata": {},
   "outputs": [
    {
     "data": {
      "text/plain": [
       "array([[ 5,  8],\n",
       "       [ 8, 13]])"
      ]
     },
     "execution_count": 58,
     "metadata": {},
     "output_type": "execute_result"
    }
   ],
   "source": [
    "np.dot(matrixA,matrixB)"
   ]
  },
  {
   "cell_type": "code",
   "execution_count": 59,
   "id": "4d453bdd-3515-413e-bf18-8d10cacf3c1b",
   "metadata": {},
   "outputs": [
    {
     "name": "stdout",
     "output_type": "stream",
     "text": [
      "step:(0,0\n",
      "\n",
      "mult1:\n",
      "0 0\n",
      "0 0\n",
      "mult2:\n",
      "0 1\n",
      "1 0\n",
      "\n",
      "\n",
      "\n",
      "step:(0,1\n",
      "\n",
      "mult1:\n",
      "0 0\n",
      "0 1\n",
      "mult2:\n",
      "0 1\n",
      "1 1\n",
      "\n",
      "\n",
      "\n",
      "step:(1,0\n",
      "\n",
      "mult1:\n",
      "1 0\n",
      "0 0\n",
      "mult2:\n",
      "1 1\n",
      "1 0\n",
      "\n",
      "\n",
      "\n",
      "step:(1,1\n",
      "\n",
      "mult1:\n",
      "1 0\n",
      "0 1\n",
      "mult2:\n",
      "1 1\n",
      "1 1\n",
      "\n",
      "\n",
      "\n"
     ]
    }
   ],
   "source": [
    "for i in range(m):\n",
    "    for j in range(q):\n",
    "        print(f\"step:({i},{j}\\n\")\n",
    "        for k in range(n):\n",
    "            print(f\"mult{k+1}:\")\n",
    "            print(i,k)\n",
    "            print(k,j)\n",
    "            matrixC[i,j] += matrixA[i,k]*matrixB[k,j]\n",
    "        print(\"\\n\\n\")"
   ]
  },
  {
   "cell_type": "code",
   "execution_count": 48,
   "id": "3a9cce3a-040a-4b4a-a953-b860155e509c",
   "metadata": {},
   "outputs": [
    {
     "data": {
      "text/plain": [
       "array([[ 5.,  8.],\n",
       "       [ 8., 13.]])"
      ]
     },
     "execution_count": 48,
     "metadata": {},
     "output_type": "execute_result"
    }
   ],
   "source": [
    "matrixC"
   ]
  },
  {
   "cell_type": "code",
   "execution_count": 49,
   "id": "c780d59d-227a-4fd6-b676-2ba79e956c39",
   "metadata": {},
   "outputs": [],
   "source": [
    "#Time Complexity of Matrix Multiplication --> O(m*n*q) "
   ]
  },
  {
   "cell_type": "code",
   "execution_count": 50,
   "id": "2ed51af7-2bc4-4185-ac5a-6cea598d0c0c",
   "metadata": {},
   "outputs": [
    {
     "data": {
      "text/plain": [
       "((1024, 512), (512, 1024))"
      ]
     },
     "execution_count": 50,
     "metadata": {},
     "output_type": "execute_result"
    }
   ],
   "source": [
    "(1024,512), (512,1024)"
   ]
  },
  {
   "cell_type": "code",
   "execution_count": 51,
   "id": "42dc33c6-c836-4591-ba88-022146e93a96",
   "metadata": {},
   "outputs": [
    {
     "data": {
      "text/plain": [
       "536870912"
      ]
     },
     "execution_count": 51,
     "metadata": {},
     "output_type": "execute_result"
    }
   ],
   "source": [
    "1024*512*1024"
   ]
  },
  {
   "cell_type": "code",
   "execution_count": 52,
   "id": "0e9d16da-1a11-47b3-a8af-a1e318234623",
   "metadata": {},
   "outputs": [
    {
     "data": {
      "text/plain": [
       "8947848.533333333"
      ]
     },
     "execution_count": 52,
     "metadata": {},
     "output_type": "execute_result"
    }
   ],
   "source": [
    "536870912/60"
   ]
  },
  {
   "cell_type": "code",
   "execution_count": 53,
   "id": "f5423120-faa9-446d-ab0e-75756afe2edf",
   "metadata": {},
   "outputs": [
    {
     "data": {
      "text/plain": [
       "149130.8088888889"
      ]
     },
     "execution_count": 53,
     "metadata": {},
     "output_type": "execute_result"
    }
   ],
   "source": [
    "8947848.533333333/60"
   ]
  },
  {
   "cell_type": "code",
   "execution_count": 54,
   "id": "74db9392-d275-4abd-85d7-1e07c46c454f",
   "metadata": {},
   "outputs": [
    {
     "data": {
      "text/plain": [
       "6213.783703703703"
      ]
     },
     "execution_count": 54,
     "metadata": {},
     "output_type": "execute_result"
    }
   ],
   "source": [
    "149130.8088888889/24"
   ]
  },
  {
   "cell_type": "code",
   "execution_count": 55,
   "id": "748c2379-7b4a-4c79-8bc4-770c13c6a960",
   "metadata": {},
   "outputs": [
    {
     "data": {
      "text/plain": [
       "17.02191780821918"
      ]
     },
     "execution_count": 55,
     "metadata": {},
     "output_type": "execute_result"
    }
   ],
   "source": [
    "6213/365"
   ]
  },
  {
   "cell_type": "code",
   "execution_count": 4,
   "id": "d05ec0d4-57e3-492f-8074-36314b341f65",
   "metadata": {},
   "outputs": [],
   "source": [
    "from array import array as arr"
   ]
  },
  {
   "cell_type": "code",
   "execution_count": 6,
   "id": "4a470184-84d5-4a25-892d-0de5f0f4b77e",
   "metadata": {},
   "outputs": [],
   "source": [
    "a = arr('i',[1,2,3,4])"
   ]
  },
  {
   "cell_type": "code",
   "execution_count": 7,
   "id": "9e387f50-bfc5-4978-9070-a2cb330dc221",
   "metadata": {},
   "outputs": [],
   "source": [
    "b = [1,2,3,4]"
   ]
  },
  {
   "cell_type": "code",
   "execution_count": 8,
   "id": "ab6931c1-2251-4be3-9cb3-4d125ef070b1",
   "metadata": {},
   "outputs": [
    {
     "data": {
      "text/plain": [
       "array('i', [1, 2, 3, 4])"
      ]
     },
     "execution_count": 8,
     "metadata": {},
     "output_type": "execute_result"
    }
   ],
   "source": [
    "a"
   ]
  },
  {
   "cell_type": "code",
   "execution_count": 9,
   "id": "105e742f-0a65-4388-96e7-4a8ef0963d0c",
   "metadata": {},
   "outputs": [
    {
     "data": {
      "text/plain": [
       "[1, 2, 3, 4]"
      ]
     },
     "execution_count": 9,
     "metadata": {},
     "output_type": "execute_result"
    }
   ],
   "source": [
    "b"
   ]
  },
  {
   "cell_type": "code",
   "execution_count": 10,
   "id": "ea10ee6f-d46a-4846-8514-603201d59c5b",
   "metadata": {},
   "outputs": [
    {
     "data": {
      "text/plain": [
       "4"
      ]
     },
     "execution_count": 10,
     "metadata": {},
     "output_type": "execute_result"
    }
   ],
   "source": [
    "a[3]"
   ]
  },
  {
   "cell_type": "code",
   "execution_count": 11,
   "id": "3c143da9-183d-4c96-bc56-4293cae34836",
   "metadata": {},
   "outputs": [
    {
     "data": {
      "text/plain": [
       "4"
      ]
     },
     "execution_count": 11,
     "metadata": {},
     "output_type": "execute_result"
    }
   ],
   "source": [
    "b[3]"
   ]
  },
  {
   "cell_type": "markdown",
   "id": "1486088f-175d-447c-b926-51a3114f760c",
   "metadata": {},
   "source": [
    "# Numpy Functions"
   ]
  },
  {
   "cell_type": "code",
   "execution_count": 12,
   "id": "61d0b5ab-fe64-420d-9926-1db2363b86c1",
   "metadata": {},
   "outputs": [],
   "source": [
    "import numpy as np"
   ]
  },
  {
   "cell_type": "code",
   "execution_count": 13,
   "id": "1729e2ea-4796-4080-9ed6-1b3acc62b205",
   "metadata": {},
   "outputs": [],
   "source": [
    "a = [1,2,3,4]"
   ]
  },
  {
   "cell_type": "code",
   "execution_count": 14,
   "id": "455f9248-2a50-4432-907a-0e406e38eab3",
   "metadata": {},
   "outputs": [
    {
     "data": {
      "text/plain": [
       "list"
      ]
     },
     "execution_count": 14,
     "metadata": {},
     "output_type": "execute_result"
    }
   ],
   "source": [
    "type(a)"
   ]
  },
  {
   "cell_type": "code",
   "execution_count": 16,
   "id": "3acf38c2-62da-47bf-be20-60735dedf687",
   "metadata": {},
   "outputs": [],
   "source": [
    "arr = np.array(a)"
   ]
  },
  {
   "cell_type": "code",
   "execution_count": 17,
   "id": "539ca6d1-a3ff-4a4c-9ee2-4a639f418cdc",
   "metadata": {},
   "outputs": [
    {
     "data": {
      "text/plain": [
       "array([1, 2, 3, 4])"
      ]
     },
     "execution_count": 17,
     "metadata": {},
     "output_type": "execute_result"
    }
   ],
   "source": [
    "arr"
   ]
  },
  {
   "cell_type": "code",
   "execution_count": 18,
   "id": "8b0221dc-5142-4964-b955-5c560be8d2e8",
   "metadata": {},
   "outputs": [
    {
     "data": {
      "text/plain": [
       "numpy.ndarray"
      ]
     },
     "execution_count": 18,
     "metadata": {},
     "output_type": "execute_result"
    }
   ],
   "source": [
    "type(arr)"
   ]
  },
  {
   "cell_type": "code",
   "execution_count": 19,
   "id": "cc220f24-8cec-4406-8073-bc973a999482",
   "metadata": {},
   "outputs": [
    {
     "data": {
      "text/plain": [
       "1"
      ]
     },
     "execution_count": 19,
     "metadata": {},
     "output_type": "execute_result"
    }
   ],
   "source": [
    "arr.ndim"
   ]
  },
  {
   "cell_type": "code",
   "execution_count": 20,
   "id": "ae86f8ae-bbac-4cfb-8afa-e8cbe3eea386",
   "metadata": {},
   "outputs": [],
   "source": [
    "b = [[1,2],[2,3]]"
   ]
  },
  {
   "cell_type": "code",
   "execution_count": 21,
   "id": "8e0d46b1-6706-48b5-a0bc-812942d0dc78",
   "metadata": {},
   "outputs": [],
   "source": [
    "arr1 = np.array(b)"
   ]
  },
  {
   "cell_type": "code",
   "execution_count": 22,
   "id": "e303fb76-7d53-489e-979a-9003ade703d9",
   "metadata": {},
   "outputs": [
    {
     "data": {
      "text/plain": [
       "numpy.ndarray"
      ]
     },
     "execution_count": 22,
     "metadata": {},
     "output_type": "execute_result"
    }
   ],
   "source": [
    "type(arr1)"
   ]
  },
  {
   "cell_type": "code",
   "execution_count": 23,
   "id": "3741a026-e308-4a2b-af87-d170ce85b079",
   "metadata": {},
   "outputs": [
    {
     "data": {
      "text/plain": [
       "2"
      ]
     },
     "execution_count": 23,
     "metadata": {},
     "output_type": "execute_result"
    }
   ],
   "source": [
    "arr1.ndim"
   ]
  },
  {
   "cell_type": "code",
   "execution_count": 24,
   "id": "69621bb6-86f2-4577-a3a0-10e823645eb5",
   "metadata": {},
   "outputs": [],
   "source": [
    "c = [[1,2],[2,3],[3,4]]"
   ]
  },
  {
   "cell_type": "code",
   "execution_count": 25,
   "id": "c0b688a7-25ab-41d3-8a31-47cc0a96c5e8",
   "metadata": {},
   "outputs": [],
   "source": [
    "arr3 = np.array(c)"
   ]
  },
  {
   "cell_type": "code",
   "execution_count": 26,
   "id": "95acd01c-8735-4574-875b-14850063d10e",
   "metadata": {},
   "outputs": [
    {
     "data": {
      "text/plain": [
       "2"
      ]
     },
     "execution_count": 26,
     "metadata": {},
     "output_type": "execute_result"
    }
   ],
   "source": [
    "arr3.ndim"
   ]
  },
  {
   "cell_type": "code",
   "execution_count": 27,
   "id": "b9736fc6-afae-49f7-8f6c-db8cb2942abf",
   "metadata": {},
   "outputs": [],
   "source": [
    "d = [[[1,2],[1,2]],[[2,3],[3,4]]]"
   ]
  },
  {
   "cell_type": "code",
   "execution_count": 45,
   "id": "193107f4-972e-4bbe-8e5b-d527a53da9d1",
   "metadata": {},
   "outputs": [],
   "source": [
    "arr4 = np.array(c)"
   ]
  },
  {
   "cell_type": "code",
   "execution_count": 46,
   "id": "fc6717b3-7b58-4880-a816-38dc037d9867",
   "metadata": {},
   "outputs": [
    {
     "data": {
      "text/plain": [
       "3"
      ]
     },
     "execution_count": 46,
     "metadata": {},
     "output_type": "execute_result"
    }
   ],
   "source": [
    "arr4.ndim"
   ]
  },
  {
   "cell_type": "code",
   "execution_count": 30,
   "id": "7e5f1ad6-5d25-489b-a200-55ae52163695",
   "metadata": {},
   "outputs": [
    {
     "data": {
      "text/plain": [
       "array([[[1, 2],\n",
       "        [1, 2]],\n",
       "\n",
       "       [[2, 3],\n",
       "        [3, 4]]])"
      ]
     },
     "execution_count": 30,
     "metadata": {},
     "output_type": "execute_result"
    }
   ],
   "source": [
    "arr4"
   ]
  },
  {
   "cell_type": "code",
   "execution_count": 31,
   "id": "7ed266c8-d0e4-446a-8b95-2b0e8853d1ca",
   "metadata": {},
   "outputs": [],
   "source": [
    "a = 2"
   ]
  },
  {
   "cell_type": "code",
   "execution_count": 32,
   "id": "3c0acfc1-7340-4bf7-82ab-a5b67119125e",
   "metadata": {},
   "outputs": [],
   "source": [
    "a = [1,2,3,4]"
   ]
  },
  {
   "cell_type": "code",
   "execution_count": 33,
   "id": "02b42f80-5bea-4187-a884-acc4a4e06b35",
   "metadata": {},
   "outputs": [],
   "source": [
    "b = [[1,2],[2,3]]"
   ]
  },
  {
   "cell_type": "code",
   "execution_count": 41,
   "id": "4ccd984d-1bfa-441a-9337-537b92d8c96b",
   "metadata": {},
   "outputs": [],
   "source": [
    "c = [[[1,2],[2,3]],[[1,2],[2,3]]]"
   ]
  },
  {
   "cell_type": "code",
   "execution_count": 42,
   "id": "6091816c-c825-48cf-a738-eb4d071a394d",
   "metadata": {},
   "outputs": [
    {
     "data": {
      "text/plain": [
       "2"
      ]
     },
     "execution_count": 42,
     "metadata": {},
     "output_type": "execute_result"
    }
   ],
   "source": [
    "len(c)"
   ]
  },
  {
   "cell_type": "code",
   "execution_count": 50,
   "id": "7c79b507-1380-46dc-875f-5e66e0297cf1",
   "metadata": {},
   "outputs": [
    {
     "data": {
      "text/plain": [
       "1"
      ]
     },
     "execution_count": 50,
     "metadata": {},
     "output_type": "execute_result"
    }
   ],
   "source": [
    "c[0][0][0]"
   ]
  },
  {
   "cell_type": "code",
   "execution_count": 35,
   "id": "2190f622-a06b-4d1a-9a10-2e4add991f09",
   "metadata": {},
   "outputs": [
    {
     "data": {
      "text/plain": [
       "3"
      ]
     },
     "execution_count": 35,
     "metadata": {},
     "output_type": "execute_result"
    }
   ],
   "source": [
    "np.array(c).ndim"
   ]
  },
  {
   "cell_type": "code",
   "execution_count": 36,
   "id": "fdfa9891-4c2f-49a8-bba6-d7e326adb20c",
   "metadata": {},
   "outputs": [
    {
     "data": {
      "text/plain": [
       "array([[[1, 2],\n",
       "        [1, 2]],\n",
       "\n",
       "       [[2, 3],\n",
       "        [3, 4]]])"
      ]
     },
     "execution_count": 36,
     "metadata": {},
     "output_type": "execute_result"
    }
   ],
   "source": [
    "arr4"
   ]
  },
  {
   "cell_type": "code",
   "execution_count": 37,
   "id": "070dac8c-4aec-4d9c-bbc6-eafa7a35c865",
   "metadata": {},
   "outputs": [
    {
     "data": {
      "text/plain": [
       "(2, 2, 2)"
      ]
     },
     "execution_count": 37,
     "metadata": {},
     "output_type": "execute_result"
    }
   ],
   "source": [
    "arr4.shape"
   ]
  },
  {
   "cell_type": "code",
   "execution_count": 47,
   "id": "3917c955-5e05-40c0-aeb8-95c093a9cbf9",
   "metadata": {},
   "outputs": [
    {
     "data": {
      "text/plain": [
       "array([[1, 2],\n",
       "       [2, 3]])"
      ]
     },
     "execution_count": 47,
     "metadata": {},
     "output_type": "execute_result"
    }
   ],
   "source": [
    "arr4[0]"
   ]
  },
  {
   "cell_type": "code",
   "execution_count": 51,
   "id": "215fc9fb-4390-451d-b6f0-c23b0d75743d",
   "metadata": {},
   "outputs": [
    {
     "data": {
      "text/plain": [
       "1"
      ]
     },
     "execution_count": 51,
     "metadata": {},
     "output_type": "execute_result"
    }
   ],
   "source": [
    "arr4[0][0][0]"
   ]
  },
  {
   "cell_type": "code",
   "execution_count": 52,
   "id": "89f3a329-0bf8-4241-b5c0-6a60a4647391",
   "metadata": {},
   "outputs": [
    {
     "data": {
      "text/plain": [
       "3"
      ]
     },
     "execution_count": 52,
     "metadata": {},
     "output_type": "execute_result"
    }
   ],
   "source": [
    "arr4[1,1,1]"
   ]
  },
  {
   "cell_type": "code",
   "execution_count": 53,
   "id": "c2b14945-8f6e-4e8d-81d6-392104a0002c",
   "metadata": {},
   "outputs": [
    {
     "data": {
      "text/plain": [
       "array([2, 3])"
      ]
     },
     "execution_count": 53,
     "metadata": {},
     "output_type": "execute_result"
    }
   ],
   "source": [
    "arr4[0,1]"
   ]
  },
  {
   "cell_type": "code",
   "execution_count": 54,
   "id": "4d46e65a-5311-45a9-a301-0ceb70d499b3",
   "metadata": {},
   "outputs": [],
   "source": [
    "arr5 = np.array([[[1,2],[3,4]],[[5,6],[7,8]]])"
   ]
  },
  {
   "cell_type": "code",
   "execution_count": 55,
   "id": "b27bf700-6ed8-4c85-aeeb-77dd69b90869",
   "metadata": {},
   "outputs": [
    {
     "data": {
      "text/plain": [
       "array([[[1, 2],\n",
       "        [3, 4]],\n",
       "\n",
       "       [[5, 6],\n",
       "        [7, 8]]])"
      ]
     },
     "execution_count": 55,
     "metadata": {},
     "output_type": "execute_result"
    }
   ],
   "source": [
    "arr5"
   ]
  },
  {
   "cell_type": "code",
   "execution_count": 62,
   "id": "9846cf2a-bc18-4d8a-9f52-dcbade347bf9",
   "metadata": {},
   "outputs": [],
   "source": [
    "arr6 = np.array([[[1,2,3],[4,5,6],[7,8,9]],[[1,2,3],[4,10,16],[7,8,9]],[[1,2,3],[4,5,6],[7,8,9]]])"
   ]
  },
  {
   "cell_type": "code",
   "execution_count": 63,
   "id": "6659f781-d698-433c-9c6c-529cccf2a59f",
   "metadata": {},
   "outputs": [
    {
     "data": {
      "text/plain": [
       "array([[[ 1,  2,  3],\n",
       "        [ 4,  5,  6],\n",
       "        [ 7,  8,  9]],\n",
       "\n",
       "       [[ 1,  2,  3],\n",
       "        [ 4, 10, 16],\n",
       "        [ 7,  8,  9]],\n",
       "\n",
       "       [[ 1,  2,  3],\n",
       "        [ 4,  5,  6],\n",
       "        [ 7,  8,  9]]])"
      ]
     },
     "execution_count": 63,
     "metadata": {},
     "output_type": "execute_result"
    }
   ],
   "source": [
    "arr6"
   ]
  },
  {
   "cell_type": "code",
   "execution_count": 64,
   "id": "6eef4271-8daa-43a3-a43d-af71f5038345",
   "metadata": {},
   "outputs": [
    {
     "data": {
      "text/plain": [
       "5"
      ]
     },
     "execution_count": 64,
     "metadata": {},
     "output_type": "execute_result"
    }
   ],
   "source": [
    "arr6[0,1,1]"
   ]
  },
  {
   "cell_type": "code",
   "execution_count": 65,
   "id": "ee65a6c6-c5a6-4537-92d0-c5aa149eca33",
   "metadata": {},
   "outputs": [
    {
     "data": {
      "text/plain": [
       "array([5, 6])"
      ]
     },
     "execution_count": 65,
     "metadata": {},
     "output_type": "execute_result"
    }
   ],
   "source": [
    "arr6[0,1,1:]"
   ]
  },
  {
   "cell_type": "code",
   "execution_count": 66,
   "id": "8e11a5cc-6690-408f-b8b6-1d24d4fb6089",
   "metadata": {},
   "outputs": [
    {
     "data": {
      "text/plain": [
       "array([10, 16])"
      ]
     },
     "execution_count": 66,
     "metadata": {},
     "output_type": "execute_result"
    }
   ],
   "source": [
    "arr6[1,1,1:]"
   ]
  },
  {
   "cell_type": "code",
   "execution_count": 67,
   "id": "e68dde00-cf8f-4a12-9eea-0d28957982d2",
   "metadata": {},
   "outputs": [
    {
     "data": {
      "text/plain": [
       "array([1, 2, 3, 4])"
      ]
     },
     "execution_count": 67,
     "metadata": {},
     "output_type": "execute_result"
    }
   ],
   "source": [
    "arr"
   ]
  },
  {
   "cell_type": "code",
   "execution_count": 68,
   "id": "121d6147-7e32-42cd-92b4-9b1f9dedabe9",
   "metadata": {},
   "outputs": [],
   "source": [
    "arr = np.reshape(arr,(2,2))"
   ]
  },
  {
   "cell_type": "code",
   "execution_count": 69,
   "id": "95dcf13d-3839-4cba-b7c2-2fd40171c850",
   "metadata": {},
   "outputs": [
    {
     "data": {
      "text/plain": [
       "array([[1, 2],\n",
       "       [3, 4]])"
      ]
     },
     "execution_count": 69,
     "metadata": {},
     "output_type": "execute_result"
    }
   ],
   "source": [
    "arr"
   ]
  },
  {
   "cell_type": "code",
   "execution_count": 70,
   "id": "f90e0382-8380-494b-b6b8-a41b98726e8e",
   "metadata": {},
   "outputs": [],
   "source": [
    "arr7 = [1,2,3,4]"
   ]
  },
  {
   "cell_type": "code",
   "execution_count": 71,
   "id": "19c3dbb5-8557-42e9-a98d-723283e34ded",
   "metadata": {},
   "outputs": [],
   "source": [
    "arr7 = np.array(arr7)"
   ]
  },
  {
   "cell_type": "code",
   "execution_count": 72,
   "id": "ab0dd729-a3b9-4ba2-a12c-4295fbf72e89",
   "metadata": {},
   "outputs": [
    {
     "data": {
      "text/plain": [
       "array([1, 2, 3, 4])"
      ]
     },
     "execution_count": 72,
     "metadata": {},
     "output_type": "execute_result"
    }
   ],
   "source": [
    "arr7"
   ]
  },
  {
   "cell_type": "code",
   "execution_count": 73,
   "id": "5cf0386c-2713-496c-8fc7-f42f92c4751e",
   "metadata": {},
   "outputs": [
    {
     "data": {
      "text/plain": [
       "1"
      ]
     },
     "execution_count": 73,
     "metadata": {},
     "output_type": "execute_result"
    }
   ],
   "source": [
    "arr7.ndim"
   ]
  },
  {
   "cell_type": "code",
   "execution_count": 86,
   "id": "33b11ec9-6194-4fd8-8e6a-5bbf40922f74",
   "metadata": {},
   "outputs": [],
   "source": [
    "arr8 = np.reshape(arr7,(1,2,1,1,1,1,1,1,1,2))"
   ]
  },
  {
   "cell_type": "code",
   "execution_count": 87,
   "id": "15d63597-9543-4939-937a-6c65b94899ee",
   "metadata": {},
   "outputs": [
    {
     "data": {
      "text/plain": [
       "10"
      ]
     },
     "execution_count": 87,
     "metadata": {},
     "output_type": "execute_result"
    }
   ],
   "source": [
    "arr8.ndim"
   ]
  },
  {
   "cell_type": "code",
   "execution_count": 88,
   "id": "6456b0af-cf3b-43c3-bf06-4691f23bbdab",
   "metadata": {},
   "outputs": [
    {
     "data": {
      "text/plain": [
       "array([[[[[[[[[[1, 2]]]]]]]],\n",
       "\n",
       "\n",
       "\n",
       "\n",
       "\n",
       "\n",
       "\n",
       "        [[[[[[[[3, 4]]]]]]]]]])"
      ]
     },
     "execution_count": 88,
     "metadata": {},
     "output_type": "execute_result"
    }
   ],
   "source": [
    "arr8"
   ]
  },
  {
   "cell_type": "code",
   "execution_count": 100,
   "id": "61b6ca2d-1bc5-4fa1-9eff-365eaf78ab0e",
   "metadata": {},
   "outputs": [
    {
     "data": {
      "text/plain": [
       "1"
      ]
     },
     "execution_count": 100,
     "metadata": {},
     "output_type": "execute_result"
    }
   ],
   "source": [
    "np.arange(0,10).ndim"
   ]
  },
  {
   "cell_type": "code",
   "execution_count": 101,
   "id": "fe2c0513-d148-4df2-9eef-e66a69067462",
   "metadata": {},
   "outputs": [
    {
     "data": {
      "text/plain": [
       "2"
      ]
     },
     "execution_count": 101,
     "metadata": {},
     "output_type": "execute_result"
    }
   ],
   "source": [
    "np.arange(0,10).reshape((1,10)).ndim"
   ]
  },
  {
   "cell_type": "code",
   "execution_count": 90,
   "id": "7719c063-2713-4cc9-ab14-c33601072ceb",
   "metadata": {},
   "outputs": [
    {
     "data": {
      "text/plain": [
       "[0, 1, 2, 3, 4, 5, 6, 7, 8, 9]"
      ]
     },
     "execution_count": 90,
     "metadata": {},
     "output_type": "execute_result"
    }
   ],
   "source": [
    "list(range(0,10))"
   ]
  },
  {
   "cell_type": "code",
   "execution_count": 103,
   "id": "2a091c09-0450-495b-8076-fc44a99ba174",
   "metadata": {},
   "outputs": [
    {
     "data": {
      "text/plain": [
       "array([[0., 0., 0., 0., 0., 0., 0., 0., 0., 0.],\n",
       "       [0., 0., 0., 0., 0., 0., 0., 0., 0., 0.],\n",
       "       [0., 0., 0., 0., 0., 0., 0., 0., 0., 0.],\n",
       "       [0., 0., 0., 0., 0., 0., 0., 0., 0., 0.],\n",
       "       [0., 0., 0., 0., 0., 0., 0., 0., 0., 0.],\n",
       "       [0., 0., 0., 0., 0., 0., 0., 0., 0., 0.],\n",
       "       [0., 0., 0., 0., 0., 0., 0., 0., 0., 0.],\n",
       "       [0., 0., 0., 0., 0., 0., 0., 0., 0., 0.],\n",
       "       [0., 0., 0., 0., 0., 0., 0., 0., 0., 0.],\n",
       "       [0., 0., 0., 0., 0., 0., 0., 0., 0., 0.]])"
      ]
     },
     "execution_count": 103,
     "metadata": {},
     "output_type": "execute_result"
    }
   ],
   "source": [
    "np.zeros((10,10))"
   ]
  },
  {
   "cell_type": "code",
   "execution_count": 105,
   "id": "bb6f0cdb-2110-41aa-b523-3fd0c4085a19",
   "metadata": {},
   "outputs": [
    {
     "data": {
      "text/plain": [
       "array([[1., 1., 1., 1., 1., 1., 1., 1., 1., 1.],\n",
       "       [1., 1., 1., 1., 1., 1., 1., 1., 1., 1.],\n",
       "       [1., 1., 1., 1., 1., 1., 1., 1., 1., 1.],\n",
       "       [1., 1., 1., 1., 1., 1., 1., 1., 1., 1.],\n",
       "       [1., 1., 1., 1., 1., 1., 1., 1., 1., 1.],\n",
       "       [1., 1., 1., 1., 1., 1., 1., 1., 1., 1.],\n",
       "       [1., 1., 1., 1., 1., 1., 1., 1., 1., 1.],\n",
       "       [1., 1., 1., 1., 1., 1., 1., 1., 1., 1.],\n",
       "       [1., 1., 1., 1., 1., 1., 1., 1., 1., 1.],\n",
       "       [1., 1., 1., 1., 1., 1., 1., 1., 1., 1.]])"
      ]
     },
     "execution_count": 105,
     "metadata": {},
     "output_type": "execute_result"
    }
   ],
   "source": [
    "np.ones((10,10))"
   ]
  },
  {
   "cell_type": "code",
   "execution_count": 106,
   "id": "4b5c6f19-742c-4255-92a0-c938d8ade396",
   "metadata": {},
   "outputs": [
    {
     "data": {
      "text/plain": [
       "array([[15, 15, 15, 15, 15, 15, 15, 15, 15, 15],\n",
       "       [15, 15, 15, 15, 15, 15, 15, 15, 15, 15],\n",
       "       [15, 15, 15, 15, 15, 15, 15, 15, 15, 15],\n",
       "       [15, 15, 15, 15, 15, 15, 15, 15, 15, 15],\n",
       "       [15, 15, 15, 15, 15, 15, 15, 15, 15, 15],\n",
       "       [15, 15, 15, 15, 15, 15, 15, 15, 15, 15],\n",
       "       [15, 15, 15, 15, 15, 15, 15, 15, 15, 15],\n",
       "       [15, 15, 15, 15, 15, 15, 15, 15, 15, 15],\n",
       "       [15, 15, 15, 15, 15, 15, 15, 15, 15, 15],\n",
       "       [15, 15, 15, 15, 15, 15, 15, 15, 15, 15]])"
      ]
     },
     "execution_count": 106,
     "metadata": {},
     "output_type": "execute_result"
    }
   ],
   "source": [
    "np.full((10,10),15)"
   ]
  },
  {
   "cell_type": "code",
   "execution_count": 110,
   "id": "fdb40a96-d73a-45df-ad54-78d7d0118118",
   "metadata": {},
   "outputs": [
    {
     "data": {
      "text/plain": [
       "array([3, 3, 9, 4, 5, 5, 4, 1, 6, 6])"
      ]
     },
     "execution_count": 110,
     "metadata": {},
     "output_type": "execute_result"
    }
   ],
   "source": [
    "np.random.randint(1,10,10)"
   ]
  },
  {
   "cell_type": "code",
   "execution_count": 113,
   "id": "6190ab01-15a7-4f35-9ca2-8fe34bbf358b",
   "metadata": {},
   "outputs": [
    {
     "data": {
      "text/plain": [
       "array([[0.18676647, 0.45255192, 0.28104679, 0.07585933, 0.23764508,\n",
       "        0.74268548, 0.75486526, 0.9641522 , 0.45367553, 0.03875296],\n",
       "       [0.31082722, 0.80620162, 0.76712978, 0.36706729, 0.90759127,\n",
       "        0.78132654, 0.72017443, 0.08671045, 0.59359597, 0.45179072]])"
      ]
     },
     "execution_count": 113,
     "metadata": {},
     "output_type": "execute_result"
    }
   ],
   "source": [
    "np.random.rand(2,10)"
   ]
  },
  {
   "cell_type": "code",
   "execution_count": 114,
   "id": "a28aa250-51d7-4be1-9af6-48ba3516356d",
   "metadata": {},
   "outputs": [
    {
     "data": {
      "text/plain": [
       "3"
      ]
     },
     "execution_count": 114,
     "metadata": {},
     "output_type": "execute_result"
    }
   ],
   "source": [
    "np.sum([1,2])"
   ]
  },
  {
   "cell_type": "code",
   "execution_count": null,
   "id": "3567d8c3-fa07-4e04-88c6-c1035ee1b022",
   "metadata": {},
   "outputs": [],
   "source": []
  }
 ],
 "metadata": {
  "kernelspec": {
   "display_name": "Python 3 (ipykernel)",
   "language": "python",
   "name": "python3"
  },
  "language_info": {
   "codemirror_mode": {
    "name": "ipython",
    "version": 3
   },
   "file_extension": ".py",
   "mimetype": "text/x-python",
   "name": "python",
   "nbconvert_exporter": "python",
   "pygments_lexer": "ipython3",
   "version": "3.11.3"
  }
 },
 "nbformat": 4,
 "nbformat_minor": 5
}
