{
 "cells": [
  {
   "cell_type": "code",
   "execution_count": 6,
   "id": "af3906e2-5f2d-40a8-b3d9-780161ea2303",
   "metadata": {},
   "outputs": [],
   "source": [
    "import os"
   ]
  },
  {
   "cell_type": "code",
   "execution_count": 8,
   "id": "5fdc83c5-94ae-4e95-8ca7-57b2b28afeab",
   "metadata": {},
   "outputs": [],
   "source": [
    "a = 5"
   ]
  },
  {
   "cell_type": "code",
   "execution_count": 9,
   "id": "acf91fb2-cb62-4806-b063-c613445876b0",
   "metadata": {},
   "outputs": [
    {
     "data": {
      "text/plain": [
       "48"
      ]
     },
     "execution_count": 9,
     "metadata": {},
     "output_type": "execute_result"
    }
   ],
   "source": [
    "6*8"
   ]
  },
  {
   "cell_type": "code",
   "execution_count": 10,
   "id": "b29c0460-ff4e-4193-a37c-a308d27af1f7",
   "metadata": {},
   "outputs": [
    {
     "data": {
      "text/plain": [
       "1.3157894736842106"
      ]
     },
     "execution_count": 10,
     "metadata": {},
     "output_type": "execute_result"
    }
   ],
   "source": [
    "100/76"
   ]
  },
  {
   "cell_type": "code",
   "execution_count": null,
   "id": "7f640d51-8f7f-405f-8e5b-e417cd4ed058",
   "metadata": {},
   "outputs": [],
   "source": []
  }
 ],
 "metadata": {
  "kernelspec": {
   "display_name": "Python 3 (ipykernel)",
   "language": "python",
   "name": "python3"
  },
  "language_info": {
   "codemirror_mode": {
    "name": "ipython",
    "version": 3
   },
   "file_extension": ".py",
   "mimetype": "text/x-python",
   "name": "python",
   "nbconvert_exporter": "python",
   "pygments_lexer": "ipython3",
   "version": "3.11.3"
  }
 },
 "nbformat": 4,
 "nbformat_minor": 5
}
