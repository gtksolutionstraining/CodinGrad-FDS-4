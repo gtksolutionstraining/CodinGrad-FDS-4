{
 "cells": [
  {
   "cell_type": "code",
   "execution_count": 20,
   "id": "0e230afd-8c6f-4179-8789-d67ece28cd4f",
   "metadata": {},
   "outputs": [],
   "source": [
    "### Specified for optional extra arguments\n",
    "def add(*args):\n",
    "    print(args)\n",
    "    print(type(args))\n",
    "    addition = 0\n",
    "    for arg in args:\n",
    "        addition += arg\n",
    "    return addition"
   ]
  },
  {
   "cell_type": "code",
   "execution_count": 21,
   "id": "7a14e716-4cae-4ad2-bc45-d4b048b4f613",
   "metadata": {},
   "outputs": [
    {
     "name": "stdout",
     "output_type": "stream",
     "text": [
      "(1, 2, 3, 5)\n",
      "<class 'tuple'>\n"
     ]
    },
    {
     "data": {
      "text/plain": [
       "11"
      ]
     },
     "execution_count": 21,
     "metadata": {},
     "output_type": "execute_result"
    }
   ],
   "source": [
    "add(1,2,3,5)"
   ]
  },
  {
   "cell_type": "code",
   "execution_count": 22,
   "id": "8667581e-41db-4d0e-8796-96effab225ad",
   "metadata": {},
   "outputs": [],
   "source": [
    "def x(a,b,c,d=10,*args):\n",
    "    return args"
   ]
  },
  {
   "cell_type": "code",
   "execution_count": 23,
   "id": "b91171c9-5adb-4bbc-bd39-40c1f3efecc7",
   "metadata": {},
   "outputs": [],
   "source": [
    "val = x(1,2,3)"
   ]
  },
  {
   "cell_type": "code",
   "execution_count": 24,
   "id": "7d0fd47f-c8b6-4a54-96df-a0fae00910f2",
   "metadata": {},
   "outputs": [
    {
     "name": "stdout",
     "output_type": "stream",
     "text": [
      "()\n"
     ]
    }
   ],
   "source": [
    "print(val)"
   ]
  },
  {
   "cell_type": "code",
   "execution_count": 25,
   "id": "94424e55-e1a9-4827-8dfd-873c991a21ee",
   "metadata": {},
   "outputs": [],
   "source": [
    "#### Key-Word Arguments\n",
    "def A(a,b):\n",
    "    print(a,b)"
   ]
  },
  {
   "cell_type": "code",
   "execution_count": 26,
   "id": "2abd8292-7090-4852-aee5-8f05ef58ce8e",
   "metadata": {},
   "outputs": [
    {
     "name": "stdout",
     "output_type": "stream",
     "text": [
      "1 2\n"
     ]
    }
   ],
   "source": [
    "A(a=1,b=2)"
   ]
  },
  {
   "cell_type": "code",
   "execution_count": 27,
   "id": "6b05f6c2-4d2b-4a9c-be60-820e330bbd09",
   "metadata": {},
   "outputs": [
    {
     "name": "stdout",
     "output_type": "stream",
     "text": [
      "1 2\n"
     ]
    }
   ],
   "source": [
    "A(b=2, a=1)"
   ]
  },
  {
   "cell_type": "code",
   "execution_count": 43,
   "id": "f8202147-59a6-4b4b-8213-c708a5932b21",
   "metadata": {},
   "outputs": [],
   "source": [
    "#When you want to call the function as  keyword arguments\n",
    "def B(**kw):\n",
    "    print(kw['a'],kw['b'])\n",
    "    print(type(kw))"
   ]
  },
  {
   "cell_type": "code",
   "execution_count": 44,
   "id": "44843d4d-15fc-48b9-848d-20e55c4f424c",
   "metadata": {},
   "outputs": [
    {
     "name": "stdout",
     "output_type": "stream",
     "text": [
      "1 2\n",
      "<class 'dict'>\n"
     ]
    }
   ],
   "source": [
    "B(a=1,b=2)"
   ]
  },
  {
   "cell_type": "code",
   "execution_count": 52,
   "id": "ce4c19a4-0932-406c-a21d-bfe6d1a2980c",
   "metadata": {},
   "outputs": [],
   "source": [
    "def C(a,b,c=10,**kw):\n",
    "    return kw"
   ]
  },
  {
   "cell_type": "code",
   "execution_count": 65,
   "id": "2ecd53e8-4c75-4830-82e1-741063ef7911",
   "metadata": {},
   "outputs": [],
   "source": [
    "val = C(1,1,1,dvjbdfshvb=1)"
   ]
  },
  {
   "cell_type": "code",
   "execution_count": 61,
   "id": "12022848-7c31-49e7-a5b7-b59b83578a34",
   "metadata": {},
   "outputs": [
    {
     "data": {
      "text/plain": [
       "{'dvjbdfshvb': 1}"
      ]
     },
     "execution_count": 61,
     "metadata": {},
     "output_type": "execute_result"
    }
   ],
   "source": [
    "val"
   ]
  },
  {
   "cell_type": "code",
   "execution_count": 63,
   "id": "5c1616e8-c9ae-4899-b3df-7b780f5c2eae",
   "metadata": {},
   "outputs": [
    {
     "name": "stdout",
     "output_type": "stream",
     "text": [
      "Help on function C in module __main__:\n",
      "\n",
      "C(a, b, c=10, **kw)\n",
      "\n"
     ]
    }
   ],
   "source": [
    "help(C)"
   ]
  },
  {
   "cell_type": "code",
   "execution_count": 66,
   "id": "bc9706b5-641c-49a0-a202-d142bc1142fd",
   "metadata": {},
   "outputs": [],
   "source": [
    "##Generators"
   ]
  },
  {
   "cell_type": "code",
   "execution_count": 67,
   "id": "f6be0dd1-e9d6-4705-905e-f0f98d27b1c2",
   "metadata": {},
   "outputs": [],
   "source": [
    "def display(n):\n",
    "    i = 0\n",
    "    while i<n:\n",
    "        print(i)\n",
    "        i += 1"
   ]
  },
  {
   "cell_type": "code",
   "execution_count": 69,
   "id": "a9608653-a363-4aa4-8f31-849f1395dd7d",
   "metadata": {},
   "outputs": [
    {
     "name": "stdout",
     "output_type": "stream",
     "text": [
      "0\n",
      "1\n",
      "2\n",
      "3\n",
      "4\n",
      "5\n",
      "6\n",
      "7\n",
      "8\n",
      "9\n"
     ]
    }
   ],
   "source": [
    "display(10)"
   ]
  },
  {
   "cell_type": "code",
   "execution_count": 75,
   "id": "f078fa7e-c63c-460c-a65c-02f7d0f29507",
   "metadata": {},
   "outputs": [],
   "source": [
    "def get_batches(n):\n",
    "    return list(range(n))"
   ]
  },
  {
   "cell_type": "code",
   "execution_count": 78,
   "id": "1c2b72e3-6cf7-468a-815c-698a1cabb63d",
   "metadata": {},
   "outputs": [],
   "source": [
    "def get_batches(n):\n",
    "    i = 0\n",
    "    while i<n:\n",
    "        batch = f\"Batch{i}\"\n",
    "        i += 1\n",
    "        yield batch"
   ]
  },
  {
   "cell_type": "code",
   "execution_count": 79,
   "id": "33818efc-2fc4-48d8-9857-9430936b7841",
   "metadata": {},
   "outputs": [],
   "source": [
    "batches = get_batches(10)"
   ]
  },
  {
   "cell_type": "code",
   "execution_count": 81,
   "id": "61315dcf-614d-4e1a-ab01-f6a9074149b5",
   "metadata": {},
   "outputs": [
    {
     "data": {
      "text/plain": [
       "'Batch0'"
      ]
     },
     "execution_count": 81,
     "metadata": {},
     "output_type": "execute_result"
    }
   ],
   "source": [
    "next(batches)"
   ]
  },
  {
   "cell_type": "code",
   "execution_count": 82,
   "id": "ccc807cf-3958-4402-8692-1f2716154d9f",
   "metadata": {},
   "outputs": [
    {
     "data": {
      "text/plain": [
       "'Batch1'"
      ]
     },
     "execution_count": 82,
     "metadata": {},
     "output_type": "execute_result"
    }
   ],
   "source": [
    "next(batches)"
   ]
  },
  {
   "cell_type": "code",
   "execution_count": 83,
   "id": "0b1f52b7-6af2-4169-b1fe-71a8405ce469",
   "metadata": {},
   "outputs": [
    {
     "data": {
      "text/plain": [
       "'Batch2'"
      ]
     },
     "execution_count": 83,
     "metadata": {},
     "output_type": "execute_result"
    }
   ],
   "source": [
    "next(batches)"
   ]
  },
  {
   "cell_type": "code",
   "execution_count": 105,
   "id": "6857555f-b6e7-4ceb-8f58-701d6475cb76",
   "metadata": {},
   "outputs": [],
   "source": [
    "import time\n",
    "def timeit(func):\n",
    "    def call(a,*args,**kwargs):\n",
    "        print(\"Preprocessing...!\")\n",
    "        start = time.time()\n",
    "        func(a,*args,**kwargs)\n",
    "        print(\"Postprocessing...!\")\n",
    "        end = time.time()\n",
    "        print(\"Time Taken By function: \",end-start)\n",
    "        return\n",
    "    return call"
   ]
  },
  {
   "cell_type": "code",
   "execution_count": 106,
   "id": "3a71cf3f-c5f0-4b80-b3cd-8570021cc347",
   "metadata": {},
   "outputs": [],
   "source": [
    "@timeit\n",
    "def A(a,*args):\n",
    "    print(\"Inside function A\")"
   ]
  },
  {
   "cell_type": "code",
   "execution_count": 107,
   "id": "0b63713d-c8aa-4152-992e-0cf263c5075e",
   "metadata": {},
   "outputs": [
    {
     "name": "stdout",
     "output_type": "stream",
     "text": [
      "Preprocessing...!\n",
      "Inside function A\n",
      "Postprocessing...!\n",
      "Time Taken By function:  9.059906005859375e-06\n"
     ]
    }
   ],
   "source": [
    "A(a=1)"
   ]
  },
  {
   "cell_type": "code",
   "execution_count": 92,
   "id": "6f07ad90-258e-49b1-aaed-c8dab0ab0a33",
   "metadata": {},
   "outputs": [
    {
     "data": {
      "text/plain": [
       "<function __main__.timeit.<locals>.call(*args, **kwargs)>"
      ]
     },
     "execution_count": 92,
     "metadata": {},
     "output_type": "execute_result"
    }
   ],
   "source": []
  },
  {
   "cell_type": "code",
   "execution_count": null,
   "id": "de9a415c-9cec-454d-a733-7ac98d6352d1",
   "metadata": {},
   "outputs": [],
   "source": []
  }
 ],
 "metadata": {
  "kernelspec": {
   "display_name": "Python 3 (ipykernel)",
   "language": "python",
   "name": "python3"
  },
  "language_info": {
   "codemirror_mode": {
    "name": "ipython",
    "version": 3
   },
   "file_extension": ".py",
   "mimetype": "text/x-python",
   "name": "python",
   "nbconvert_exporter": "python",
   "pygments_lexer": "ipython3",
   "version": "3.11.3"
  }
 },
 "nbformat": 4,
 "nbformat_minor": 5
}
