{
 "cells": [
  {
   "cell_type": "markdown",
   "id": "80dd95c1-fb88-4955-bcdb-a5ed5e0eaed6",
   "metadata": {},
   "source": [
    "# Loops:\n",
    "- Repeatative tasks\n",
    "- For Each Loop - For each element of a given list\n",
    "- For Loops are Inefficient"
   ]
  },
  {
   "cell_type": "code",
   "execution_count": 5,
   "id": "7b863189-d1ef-4a20-93ed-6c5147575907",
   "metadata": {},
   "outputs": [],
   "source": [
    "students = [\"Raju\",\"Ramesh\",\"Rani\",\"Rakesh\",\"Ramesh\"]"
   ]
  },
  {
   "cell_type": "code",
   "execution_count": 7,
   "id": "f3413c72-9f1b-4d00-af14-95f0770228d9",
   "metadata": {},
   "outputs": [
    {
     "name": "stdout",
     "output_type": "stream",
     "text": [
      "Student Found at 2nd place\n"
     ]
    }
   ],
   "source": [
    "## no of cpu clocks = 2\n",
    "if students[0] == \"Ramesh\":\n",
    "    print(\"Student Found at 1st place\")\n",
    "elif students[1] == \"Ramesh\":\n",
    "    print(\"Student Found at 2nd place\")\n",
    "elif students[2] == \"Ramesh\":\n",
    "    print(\"Student Found at 3rd place\")\n",
    "elif students[3] == \"Ramesh\":\n",
    "    print(\"Student Found at 4th place\")\n",
    "elif students[4] == \"Ramesh\":\n",
    "    print(\"Student Found at 5th place\")"
   ]
  },
  {
   "cell_type": "code",
   "execution_count": 13,
   "id": "aa9a033b-b3ca-4034-b252-0a3739e190e7",
   "metadata": {},
   "outputs": [
    {
     "name": "stdout",
     "output_type": "stream",
     "text": [
      "I Found Ramesh!\n"
     ]
    }
   ],
   "source": [
    "# No of cpu clocks = 2\n",
    "for student in students:\n",
    "    if student == \"Ramesh\":\n",
    "        print(\"I Found Ramesh!\")\n",
    "        break"
   ]
  },
  {
   "cell_type": "markdown",
   "id": "1128b648-fe22-4ce4-a927-50b969c6f3a2",
   "metadata": {},
   "source": [
    "# Time Complexity\n",
    "- Search Algorithm --> Sequential Search\n",
    "- Possible Consumption of CPU clocks\n",
    "- If you found the element at 1st place -- No of clocks = 1\n",
    "- If you found the element at last ------- No of clocks = len(students) = n\n",
    "- Best Time Complexity --- O(1) --> Best Possible way\n",
    "- Worst Time Complexity --- O(n) --> Worst Possible way"
   ]
  },
  {
   "cell_type": "code",
   "execution_count": null,
   "id": "d70ad3af-0d7c-4787-ac92-646f80f34664",
   "metadata": {},
   "outputs": [],
   "source": []
  }
 ],
 "metadata": {
  "kernelspec": {
   "display_name": "Python 3 (ipykernel)",
   "language": "python",
   "name": "python3"
  },
  "language_info": {
   "codemirror_mode": {
    "name": "ipython",
    "version": 3
   },
   "file_extension": ".py",
   "mimetype": "text/x-python",
   "name": "python",
   "nbconvert_exporter": "python",
   "pygments_lexer": "ipython3",
   "version": "3.11.3"
  }
 },
 "nbformat": 4,
 "nbformat_minor": 5
}
