{
 "cells": [
  {
   "cell_type": "markdown",
   "id": "1e08bfcf-b2a5-4167-a343-3a2590c0bdf6",
   "metadata": {},
   "source": [
    "# Functional Arguments\n",
    "- Functional Parameters, Arguments\n",
    "- Functional Scope\n",
    "- - Local Scope --> Every Function will have a local scope\n",
    "  - Definied variables in function are scoped inside function only\n",
    "  - Global Scope\n",
    "  - All Global Variables are read-only to other functions\n",
    "  - Pass by value\n",
    "  - Pass by Reference\n",
    "  - List, set, Dictionary --> If you pass these collections then the passing is called called by reference\n",
    "  - All primitive data types are pass by value\n",
    "  - The scope of reference variables also local in functions"
   ]
  },
  {
   "cell_type": "code",
   "execution_count": 39,
   "id": "f5f519ca-6a89-4653-930e-b9d6a7e14f1e",
   "metadata": {},
   "outputs": [],
   "source": [
    "# e = 1111\n",
    "def A(a,b,c):\n",
    "    a += 1\n",
    "    b += 2\n",
    "    c += 3\n",
    "    # print(e)\n",
    "    # e = e + 1"
   ]
  },
  {
   "cell_type": "code",
   "execution_count": 35,
   "id": "c443e9be-5b80-49a4-acda-546dacae166a",
   "metadata": {},
   "outputs": [],
   "source": [
    "a = 1 \n",
    "b = 2 \n",
    "c = 3"
   ]
  },
  {
   "cell_type": "code",
   "execution_count": 40,
   "id": "f5730576-1ddd-446e-9d2a-ffa199f9ca16",
   "metadata": {},
   "outputs": [],
   "source": [
    "A(a,b,c)"
   ]
  },
  {
   "cell_type": "code",
   "execution_count": 46,
   "id": "b7fda199-4b8b-4147-b188-9278a6029dd1",
   "metadata": {},
   "outputs": [
    {
     "data": {
      "text/plain": [
       "(1, 2, 3)"
      ]
     },
     "execution_count": 46,
     "metadata": {},
     "output_type": "execute_result"
    }
   ],
   "source": [
    "a,b,c"
   ]
  },
  {
   "cell_type": "code",
   "execution_count": 24,
   "id": "d24c8452-d3d0-488c-9b9a-f15232ee1caf",
   "metadata": {},
   "outputs": [],
   "source": [
    "e = e +1"
   ]
  },
  {
   "cell_type": "code",
   "execution_count": 27,
   "id": "5c975cbe-8941-49b7-ab62-bdf0f2396ea0",
   "metadata": {},
   "outputs": [
    {
     "data": {
      "text/plain": [
       "1112"
      ]
     },
     "execution_count": 27,
     "metadata": {},
     "output_type": "execute_result"
    }
   ],
   "source": [
    "e"
   ]
  },
  {
   "cell_type": "code",
   "execution_count": 65,
   "id": "f6495c32-525d-4efd-aea3-b5bb8323047d",
   "metadata": {},
   "outputs": [],
   "source": [
    "def B(a):\n",
    "    a = a.copy()\n",
    "    a.append(6)\n",
    "    print(6)"
   ]
  },
  {
   "cell_type": "code",
   "execution_count": 66,
   "id": "61f63f83-fbee-4e41-b8e6-c19773307a23",
   "metadata": {},
   "outputs": [],
   "source": [
    "lis = [1,2,3]"
   ]
  },
  {
   "cell_type": "code",
   "execution_count": 67,
   "id": "ab338a2b-8a0c-44a4-8413-7ee7488b4d68",
   "metadata": {},
   "outputs": [
    {
     "name": "stdout",
     "output_type": "stream",
     "text": [
      "6\n"
     ]
    }
   ],
   "source": [
    "B(lis)"
   ]
  },
  {
   "cell_type": "code",
   "execution_count": 68,
   "id": "c1d10340-61f2-43fb-a91b-154015bf7c1b",
   "metadata": {},
   "outputs": [
    {
     "data": {
      "text/plain": [
       "[1, 2, 3]"
      ]
     },
     "execution_count": 68,
     "metadata": {},
     "output_type": "execute_result"
    }
   ],
   "source": [
    "lis"
   ]
  },
  {
   "cell_type": "code",
   "execution_count": 61,
   "id": "5909bbcb-ee13-4fbe-ba43-a6f19e00c7bc",
   "metadata": {},
   "outputs": [
    {
     "name": "stdout",
     "output_type": "stream",
     "text": [
      "1\n"
     ]
    }
   ],
   "source": [
    "print(a)"
   ]
  },
  {
   "cell_type": "code",
   "execution_count": 70,
   "id": "a6989e0a-2794-4a06-8ec1-4e867afb4175",
   "metadata": {},
   "outputs": [],
   "source": [
    "students = {} ## This variable is updating\n",
    "def add_student(students,student_name,roll_number):\n",
    "    students[roll_number] = student_name"
   ]
  },
  {
   "cell_type": "code",
   "execution_count": 71,
   "id": "0751ce9f-f134-4f1d-9838-50e409a9cb70",
   "metadata": {},
   "outputs": [],
   "source": [
    "add_student(students,\"Tharun\",\"123\")"
   ]
  },
  {
   "cell_type": "code",
   "execution_count": 83,
   "id": "a6188b15-fb3e-443e-8295-36fd373c2519",
   "metadata": {},
   "outputs": [
    {
     "data": {
      "text/plain": [
       "{'123': 'Tharun'}"
      ]
     },
     "execution_count": 83,
     "metadata": {},
     "output_type": "execute_result"
    }
   ],
   "source": [
    "students"
   ]
  },
  {
   "cell_type": "code",
   "execution_count": 80,
   "id": "7be471e0-fed1-42b1-9679-0181cd0c3561",
   "metadata": {},
   "outputs": [],
   "source": [
    "name = \"\" ## This variable is not updating\n",
    "def get_name(name):\n",
    "    name = \"Ram\""
   ]
  },
  {
   "cell_type": "code",
   "execution_count": 81,
   "id": "5022c670-40d9-426b-9632-a6638c92780c",
   "metadata": {},
   "outputs": [],
   "source": [
    "get_name(name)"
   ]
  },
  {
   "cell_type": "code",
   "execution_count": 84,
   "id": "6db8577a-d2a7-481b-878d-c83c6ef76a8d",
   "metadata": {},
   "outputs": [
    {
     "data": {
      "text/plain": [
       "''"
      ]
     },
     "execution_count": 84,
     "metadata": {},
     "output_type": "execute_result"
    }
   ],
   "source": [
    "name"
   ]
  },
  {
   "cell_type": "code",
   "execution_count": null,
   "id": "dbc6942a-b7d0-433f-ab64-5b6113a99cfd",
   "metadata": {},
   "outputs": [],
   "source": []
  }
 ],
 "metadata": {
  "kernelspec": {
   "display_name": "Python 3 (ipykernel)",
   "language": "python",
   "name": "python3"
  },
  "language_info": {
   "codemirror_mode": {
    "name": "ipython",
    "version": 3
   },
   "file_extension": ".py",
   "mimetype": "text/x-python",
   "name": "python",
   "nbconvert_exporter": "python",
   "pygments_lexer": "ipython3",
   "version": "3.11.3"
  }
 },
 "nbformat": 4,
 "nbformat_minor": 5
}
