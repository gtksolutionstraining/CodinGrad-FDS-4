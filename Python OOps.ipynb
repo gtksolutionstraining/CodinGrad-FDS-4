{
 "cells": [
  {
   "cell_type": "code",
   "execution_count": 41,
   "id": "3ef58c8b-5f2d-4fa1-995d-87ea45781d7e",
   "metadata": {},
   "outputs": [],
   "source": [
    "## Classes are digested by Python Interpreter\n",
    "class Human:\n",
    "    # Class variable/Property\n",
    "    human_count = 0\n",
    "    # Constructor\n",
    "    def __init__(self):\n",
    "        #Instance Variables/Properties\n",
    "        self.eyes = 2 #Public\n",
    "        self.legs = 2 #Public\n",
    "        self.nose = 1 #Public\n",
    "        self.__heart = \"Heart\" #Private Property\n",
    "        self._genital = \"Genital\" #Protected Property\n",
    "        self.__brain = \"Brain\"\n",
    "        self.count_person()\n",
    "        \n",
    "    def __digestion(self):\n",
    "        print(\"Digesting...\")\n",
    "        \n",
    "    def heart_beat(self):\n",
    "        print(f\"heart beating {self.__heart}\")\n",
    "\n",
    "    def living(self):\n",
    "        self.__digestion()\n",
    "\n",
    "\n",
    "    ##Getters\n",
    "    def get_heart(self):\n",
    "        return self.__heart\n",
    "\n",
    "    ##Setter\n",
    "    def set_heart(self,heart):\n",
    "        self.__heart = heart\n",
    "        \n",
    "    # Instance Methods\n",
    "    def __think(self,question):\n",
    "        print(f\"Human is thinking.....{self.__brain}\")\n",
    "\n",
    "    @classmethod\n",
    "    def count_person(cls):\n",
    "        cls.human_count += 1\n",
    "        \n",
    "    # Instance Methods\n",
    "    def eat(self):\n",
    "        print(f\"Human is eating.....\")\n",
    "    @classmethod\n",
    "    def dummy(cls):\n",
    "        print(f\"Its a dummy\")\n",
    "        \n",
    "    @staticmethod\n",
    "    def dummy2():\n",
    "        print(f\"Its a dummy 2\")"
   ]
  },
  {
   "cell_type": "code",
   "execution_count": 42,
   "id": "f06e6037-8191-4312-8def-87fb88a77daa",
   "metadata": {},
   "outputs": [],
   "source": [
    "person1 = Human()\n",
    "person1.count_person()"
   ]
  },
  {
   "cell_type": "code",
   "execution_count": 32,
   "id": "e64c2c1d-3216-4b88-981f-adcf1e4863aa",
   "metadata": {},
   "outputs": [
    {
     "data": {
      "text/plain": [
       "1"
      ]
     },
     "execution_count": 32,
     "metadata": {},
     "output_type": "execute_result"
    }
   ],
   "source": [
    "Human.human_count"
   ]
  },
  {
   "cell_type": "code",
   "execution_count": 40,
   "id": "21a26b31-a527-4bd3-9c6b-2a5c84eadc6d",
   "metadata": {},
   "outputs": [
    {
     "data": {
      "text/plain": [
       "1"
      ]
     },
     "execution_count": 40,
     "metadata": {},
     "output_type": "execute_result"
    }
   ],
   "source": [
    "person1.human_count"
   ]
  },
  {
   "cell_type": "code",
   "execution_count": 37,
   "id": "a3f56ad4-09e7-4985-9326-bcf60d97fbf7",
   "metadata": {},
   "outputs": [
    {
     "name": "stdout",
     "output_type": "stream",
     "text": [
      "Its a dummy 2\n"
     ]
    }
   ],
   "source": [
    "person1.dummy2()"
   ]
  },
  {
   "cell_type": "code",
   "execution_count": 39,
   "id": "154f2e9d-420e-4cd6-ac9f-00b8ef6d8cd0",
   "metadata": {},
   "outputs": [
    {
     "name": "stdout",
     "output_type": "stream",
     "text": [
      "Its a dummy 2\n"
     ]
    }
   ],
   "source": [
    "Human.dummy2()"
   ]
  },
  {
   "cell_type": "code",
   "execution_count": 33,
   "id": "4d1fd576-7342-4cba-8155-9cadd9909855",
   "metadata": {},
   "outputs": [],
   "source": [
    "person2 = Human()"
   ]
  },
  {
   "cell_type": "code",
   "execution_count": 34,
   "id": "beb67d46-bb46-4331-9102-79ef1e0bee9f",
   "metadata": {},
   "outputs": [
    {
     "data": {
      "text/plain": [
       "2"
      ]
     },
     "execution_count": 34,
     "metadata": {},
     "output_type": "execute_result"
    }
   ],
   "source": [
    "Human.human_count"
   ]
  },
  {
   "cell_type": "code",
   "execution_count": 17,
   "id": "cea0e519-a50f-4329-ab19-3c441e6b845c",
   "metadata": {},
   "outputs": [
    {
     "data": {
      "text/plain": [
       "2"
      ]
     },
     "execution_count": 17,
     "metadata": {},
     "output_type": "execute_result"
    }
   ],
   "source": [
    "person1.eyes"
   ]
  },
  {
   "cell_type": "code",
   "execution_count": 4,
   "id": "3751ee67-97ae-4538-9569-a1c7f40c06ac",
   "metadata": {},
   "outputs": [
    {
     "data": {
      "text/plain": [
       "2"
      ]
     },
     "execution_count": 4,
     "metadata": {},
     "output_type": "execute_result"
    }
   ],
   "source": [
    "person1.legs"
   ]
  },
  {
   "cell_type": "code",
   "execution_count": 5,
   "id": "95f9e0d0-5f2a-44f3-93a9-68e50a37b8d5",
   "metadata": {},
   "outputs": [
    {
     "data": {
      "text/plain": [
       "1"
      ]
     },
     "execution_count": 5,
     "metadata": {},
     "output_type": "execute_result"
    }
   ],
   "source": [
    "person1.nose"
   ]
  },
  {
   "cell_type": "code",
   "execution_count": 7,
   "id": "4ab6270b-c942-4695-9389-c7f8149cc0d3",
   "metadata": {},
   "outputs": [
    {
     "name": "stdout",
     "output_type": "stream",
     "text": [
      "heart beating Heart\n"
     ]
    }
   ],
   "source": [
    "person1.heart_beat()"
   ]
  },
  {
   "cell_type": "code",
   "execution_count": 18,
   "id": "e6bc84bc-98f0-470b-be0b-34e543945f72",
   "metadata": {},
   "outputs": [
    {
     "name": "stdout",
     "output_type": "stream",
     "text": [
      "Digesting...\n"
     ]
    }
   ],
   "source": [
    "person1.living()"
   ]
  },
  {
   "cell_type": "code",
   "execution_count": 6,
   "id": "de07b11e-9e27-4812-9b14-33db155e794f",
   "metadata": {},
   "outputs": [
    {
     "ename": "AttributeError",
     "evalue": "'Human' object has no attribute '__heart'",
     "output_type": "error",
     "traceback": [
      "\u001b[0;31m---------------------------------------------------------------------------\u001b[0m",
      "\u001b[0;31mAttributeError\u001b[0m                            Traceback (most recent call last)",
      "Cell \u001b[0;32mIn[6], line 1\u001b[0m\n\u001b[0;32m----> 1\u001b[0m \u001b[43mperson1\u001b[49m\u001b[38;5;241;43m.\u001b[39;49m\u001b[43m__heart\u001b[49m\n",
      "\u001b[0;31mAttributeError\u001b[0m: 'Human' object has no attribute '__heart'"
     ]
    }
   ],
   "source": [
    "person1.__heart"
   ]
  },
  {
   "cell_type": "code",
   "execution_count": 23,
   "id": "5b9eb029-3f5f-4856-971c-8beab5f78324",
   "metadata": {},
   "outputs": [
    {
     "data": {
      "text/plain": [
       "'Heart'"
      ]
     },
     "execution_count": 23,
     "metadata": {},
     "output_type": "execute_result"
    }
   ],
   "source": [
    "person1.get_heart()"
   ]
  },
  {
   "cell_type": "code",
   "execution_count": 24,
   "id": "af9b02e2-fb04-4208-9402-218b32591ab8",
   "metadata": {},
   "outputs": [],
   "source": [
    "person1.put_heart('Update Heart')"
   ]
  },
  {
   "cell_type": "code",
   "execution_count": 25,
   "id": "250abc34-44a3-4fbd-8364-969a71bb86eb",
   "metadata": {},
   "outputs": [
    {
     "data": {
      "text/plain": [
       "'Update Heart'"
      ]
     },
     "execution_count": 25,
     "metadata": {},
     "output_type": "execute_result"
    }
   ],
   "source": [
    "person1.get_heart()"
   ]
  },
  {
   "cell_type": "code",
   "execution_count": 13,
   "id": "b5dbb411-a2b7-4f17-b6b6-ab2a9a214830",
   "metadata": {},
   "outputs": [
    {
     "data": {
      "text/plain": [
       "'Genital'"
      ]
     },
     "execution_count": 13,
     "metadata": {},
     "output_type": "execute_result"
    }
   ],
   "source": [
    "person1._genital"
   ]
  },
  {
   "cell_type": "code",
   "execution_count": 6,
   "id": "31cd9bfc-0416-4f05-a0ee-cd9ef9d82bba",
   "metadata": {},
   "outputs": [
    {
     "name": "stdout",
     "output_type": "stream",
     "text": [
      "Human is thinking.....\n"
     ]
    }
   ],
   "source": [
    "person1.think()"
   ]
  },
  {
   "cell_type": "code",
   "execution_count": 8,
   "id": "d94cad1d-1360-44cb-b74a-600672e5154d",
   "metadata": {},
   "outputs": [
    {
     "name": "stdout",
     "output_type": "stream",
     "text": [
      "Human is eating.....\n"
     ]
    }
   ],
   "source": [
    "person1.eat()"
   ]
  },
  {
   "cell_type": "code",
   "execution_count": 14,
   "id": "ec4c701f-0401-40a8-a0e5-368c9d13738d",
   "metadata": {},
   "outputs": [
    {
     "name": "stdout",
     "output_type": "stream",
     "text": [
      "Its a dummy\n"
     ]
    }
   ],
   "source": [
    "Human.dummy()"
   ]
  },
  {
   "cell_type": "code",
   "execution_count": 18,
   "id": "561ecaea-e40a-4551-baef-e1baa7dae3e3",
   "metadata": {},
   "outputs": [],
   "source": [
    "person2 = Human()"
   ]
  },
  {
   "cell_type": "code",
   "execution_count": 23,
   "id": "771a31d1-aea6-4eba-9634-ffceb822194a",
   "metadata": {},
   "outputs": [
    {
     "data": {
      "text/plain": [
       "0"
      ]
     },
     "execution_count": 23,
     "metadata": {},
     "output_type": "execute_result"
    }
   ],
   "source": [
    "person1.human_count"
   ]
  },
  {
   "cell_type": "code",
   "execution_count": 24,
   "id": "9c2d55d3-b8fa-4981-9929-61c10c771c4c",
   "metadata": {},
   "outputs": [
    {
     "data": {
      "text/plain": [
       "0"
      ]
     },
     "execution_count": 24,
     "metadata": {},
     "output_type": "execute_result"
    }
   ],
   "source": [
    "person2.human_count"
   ]
  },
  {
   "cell_type": "code",
   "execution_count": 25,
   "id": "1119e8f2-bdd7-4aa8-b1f4-ee8b75d1eca3",
   "metadata": {},
   "outputs": [
    {
     "data": {
      "text/plain": [
       "0"
      ]
     },
     "execution_count": 25,
     "metadata": {},
     "output_type": "execute_result"
    }
   ],
   "source": [
    "Human.human_count"
   ]
  },
  {
   "cell_type": "code",
   "execution_count": 26,
   "id": "60a12951-e6ed-416c-9d92-cd4d8202ea67",
   "metadata": {},
   "outputs": [],
   "source": [
    "class Parrot:\n",
    "    pass"
   ]
  },
  {
   "cell_type": "code",
   "execution_count": 27,
   "id": "e0900cfd-121c-4993-b2fa-079648da7a4e",
   "metadata": {},
   "outputs": [],
   "source": [
    "parrot = Parrot()"
   ]
  },
  {
   "cell_type": "code",
   "execution_count": 1,
   "id": "0bb434d9-f08a-40b8-8468-25115c88fedd",
   "metadata": {},
   "outputs": [],
   "source": [
    "class LivingBeing:\n",
    "    def __init__(self):\n",
    "        self.dna = \"DNA\"\n",
    "        self.rna = \"RNA\"\n",
    "    def grow(self):\n",
    "        print(\"Growing\")\n",
    "    def move(self):\n",
    "        print(\"Moving\")\n",
    "    def breathg(self):\n",
    "        print(\"Breathing\")"
   ]
  },
  {
   "cell_type": "code",
   "execution_count": 14,
   "id": "7b0c9362-9425-4a1f-b54b-be6de3783a05",
   "metadata": {},
   "outputs": [],
   "source": [
    "class HumanBeing(LivingBeing):\n",
    "    def __init__(self):\n",
    "        super().__init__()\n",
    "        self.legs = \"Legs\"\n",
    "        self.hands = \"Hands\"\n",
    "    def think(self):\n",
    "        print(\"Thinking\")"
   ]
  },
  {
   "cell_type": "code",
   "execution_count": 15,
   "id": "4a97ed88-e29b-4a60-a61f-450e436d651c",
   "metadata": {},
   "outputs": [],
   "source": [
    "humanBeing1 = HumanBeing()"
   ]
  },
  {
   "cell_type": "code",
   "execution_count": 18,
   "id": "fe1040e9-aa35-40eb-ad64-753a7ab9405d",
   "metadata": {},
   "outputs": [
    {
     "data": {
      "text/plain": [
       "'RNA'"
      ]
     },
     "execution_count": 18,
     "metadata": {},
     "output_type": "execute_result"
    }
   ],
   "source": [
    "humanBeing1.rna"
   ]
  },
  {
   "cell_type": "code",
   "execution_count": 19,
   "id": "4b8cfd02-f663-483b-89bd-8cb58ba3e614",
   "metadata": {},
   "outputs": [
    {
     "name": "stdout",
     "output_type": "stream",
     "text": [
      "Breathing\n"
     ]
    }
   ],
   "source": [
    "humanBeing1.breathg()"
   ]
  },
  {
   "cell_type": "code",
   "execution_count": 20,
   "id": "34d19bed-f370-495e-8d67-c523818b9c3a",
   "metadata": {},
   "outputs": [],
   "source": [
    "class Animal(LivingBeing):\n",
    "    def __init__(self):\n",
    "        super().__init__()\n",
    "        self.legs = \"Legs\"\n",
    "        self.hands = \"Hands\"\n",
    "    def roar(self):\n",
    "        print(\"Roaring\")"
   ]
  },
  {
   "cell_type": "code",
   "execution_count": 21,
   "id": "f88f2162-594c-448c-b5a0-17aeb3e4efc1",
   "metadata": {},
   "outputs": [],
   "source": [
    "animal = Animal()"
   ]
  },
  {
   "cell_type": "code",
   "execution_count": 22,
   "id": "998e0022-c0ca-4b73-8d3c-5b4af8bd13ad",
   "metadata": {},
   "outputs": [
    {
     "data": {
      "text/plain": [
       "'DNA'"
      ]
     },
     "execution_count": 22,
     "metadata": {},
     "output_type": "execute_result"
    }
   ],
   "source": [
    "animal.dna"
   ]
  },
  {
   "cell_type": "code",
   "execution_count": 23,
   "id": "9238c8f1-6145-4a4e-b424-fdffad061bad",
   "metadata": {},
   "outputs": [
    {
     "name": "stdout",
     "output_type": "stream",
     "text": [
      "Growing\n"
     ]
    }
   ],
   "source": [
    "animal.grow()"
   ]
  },
  {
   "cell_type": "code",
   "execution_count": 30,
   "id": "4b3195e6-2c93-47c6-bf32-3bd93b9af0db",
   "metadata": {},
   "outputs": [],
   "source": [
    "# Single Level Inheritance\n",
    "class A:\n",
    "    pass\n",
    "class B(A):\n",
    "    pass"
   ]
  },
  {
   "cell_type": "code",
   "execution_count": 29,
   "id": "ca45ef18-885d-4600-9827-96a838e32482",
   "metadata": {},
   "outputs": [],
   "source": [
    "# Multi Level Inheritance\n",
    "class A:\n",
    "    pass\n",
    "class B(A):\n",
    "    pass\n",
    "class C(B):\n",
    "    pass"
   ]
  },
  {
   "cell_type": "code",
   "execution_count": 32,
   "id": "38db181f-a7e8-4146-bb73-4514645b919d",
   "metadata": {},
   "outputs": [],
   "source": [
    "# Multiple Inheritance\n",
    "class A:\n",
    "    pass\n",
    "class B:\n",
    "    pass\n",
    "class C(A,B):\n",
    "    pass"
   ]
  },
  {
   "cell_type": "code",
   "execution_count": 33,
   "id": "3adf77c0-9d25-4618-814c-81396d36a616",
   "metadata": {},
   "outputs": [],
   "source": [
    "# Properties and actions will be accessed by inherited class(Child class) --> are Protected"
   ]
  },
  {
   "cell_type": "code",
   "execution_count": 34,
   "id": "2d33eff3-30d1-4e5f-a892-b2a1054258d2",
   "metadata": {},
   "outputs": [],
   "source": [
    "class A:\n",
    "    def __init__(self):\n",
    "        self.__private = \"Private\"\n",
    "        self._protected = \"Protected\"\n",
    "        self.public = \"Public\"\n",
    "    def __private_action(self):\n",
    "        pass\n",
    "    def _protected_action(self):\n",
    "        pass\n",
    "    def public_action(self):\n",
    "        pass"
   ]
  },
  {
   "cell_type": "code",
   "execution_count": 44,
   "id": "b99b3afd-06b4-4558-b379-a3b1b1882ae4",
   "metadata": {},
   "outputs": [],
   "source": [
    "class B(A):\n",
    "    def __init__(self):\n",
    "        super().__init__()\n",
    "    def get_public(self):\n",
    "        print(self.public)\n",
    "    def get_protected(self):\n",
    "        print(self._protected)\n",
    "    def get_private(self):\n",
    "        print(self.__private)"
   ]
  },
  {
   "cell_type": "code",
   "execution_count": 45,
   "id": "6a16fa76-46a2-4b0f-b1fb-366331253a75",
   "metadata": {},
   "outputs": [],
   "source": [
    "b = B()"
   ]
  },
  {
   "cell_type": "code",
   "execution_count": 46,
   "id": "3b00c3d7-99d3-47c2-935c-07be58ffe645",
   "metadata": {},
   "outputs": [
    {
     "name": "stdout",
     "output_type": "stream",
     "text": [
      "Public\n"
     ]
    }
   ],
   "source": [
    "b.get_public()"
   ]
  },
  {
   "cell_type": "code",
   "execution_count": 47,
   "id": "34d781c9-7b38-48e2-970d-828ba87a17dc",
   "metadata": {},
   "outputs": [
    {
     "name": "stdout",
     "output_type": "stream",
     "text": [
      "Protected\n"
     ]
    }
   ],
   "source": [
    "b.get_protected()"
   ]
  },
  {
   "cell_type": "code",
   "execution_count": 48,
   "id": "affc1dce-2a91-4372-b78f-95dfa9df9a97",
   "metadata": {},
   "outputs": [
    {
     "ename": "AttributeError",
     "evalue": "'B' object has no attribute '_B__private'",
     "output_type": "error",
     "traceback": [
      "\u001b[0;31m---------------------------------------------------------------------------\u001b[0m",
      "\u001b[0;31mAttributeError\u001b[0m                            Traceback (most recent call last)",
      "Cell \u001b[0;32mIn[48], line 1\u001b[0m\n\u001b[0;32m----> 1\u001b[0m \u001b[43mb\u001b[49m\u001b[38;5;241;43m.\u001b[39;49m\u001b[43mget_private\u001b[49m\u001b[43m(\u001b[49m\u001b[43m)\u001b[49m\n",
      "Cell \u001b[0;32mIn[44], line 9\u001b[0m, in \u001b[0;36mB.get_private\u001b[0;34m(self)\u001b[0m\n\u001b[1;32m      8\u001b[0m \u001b[38;5;28;01mdef\u001b[39;00m \u001b[38;5;21mget_private\u001b[39m(\u001b[38;5;28mself\u001b[39m):\n\u001b[0;32m----> 9\u001b[0m     \u001b[38;5;28mprint\u001b[39m(\u001b[38;5;28;43mself\u001b[39;49m\u001b[38;5;241;43m.\u001b[39;49m\u001b[43m__private\u001b[49m)\n",
      "\u001b[0;31mAttributeError\u001b[0m: 'B' object has no attribute '_B__private'"
     ]
    }
   ],
   "source": [
    "b.get_private()"
   ]
  },
  {
   "cell_type": "code",
   "execution_count": 56,
   "id": "f295b5a9-9222-41da-a4f3-58404c9eebc4",
   "metadata": {},
   "outputs": [],
   "source": [
    "class A:\n",
    "    def __init__(self):\n",
    "        pass\n",
    "    def action_greeting(self):\n",
    "        print(\"Action from A\")\n",
    "class B(A):\n",
    "    def __init__(self):\n",
    "        pass\n",
    "    def action_greeting(self):\n",
    "        print(\"Action from B\")"
   ]
  },
  {
   "cell_type": "code",
   "execution_count": 57,
   "id": "4ae2ce38-59d0-4fb2-8711-601bc8f6db93",
   "metadata": {},
   "outputs": [],
   "source": [
    "a = A()"
   ]
  },
  {
   "cell_type": "code",
   "execution_count": 58,
   "id": "d4ede0ad-8ab5-4752-9a15-fdc4c96a66b8",
   "metadata": {},
   "outputs": [],
   "source": [
    "b = B()"
   ]
  },
  {
   "cell_type": "code",
   "execution_count": 59,
   "id": "be3406a1-a1da-47b6-8d10-6994aa884ab6",
   "metadata": {},
   "outputs": [
    {
     "name": "stdout",
     "output_type": "stream",
     "text": [
      "Action from A\n"
     ]
    }
   ],
   "source": [
    "a.action_greeting()"
   ]
  },
  {
   "cell_type": "code",
   "execution_count": 60,
   "id": "dcdd1e2e-bdcc-46f9-acdb-d6b63cbb00a3",
   "metadata": {},
   "outputs": [
    {
     "name": "stdout",
     "output_type": "stream",
     "text": [
      "Action from A\n"
     ]
    }
   ],
   "source": [
    "b.action_greeting()"
   ]
  },
  {
   "cell_type": "code",
   "execution_count": 67,
   "id": "49b3a16a-e777-411a-b118-74081011225d",
   "metadata": {},
   "outputs": [],
   "source": [
    "class A:\n",
    "    def __init__(self):\n",
    "        pass\n",
    "    def action_greeting(self):\n",
    "        print(\"Action from A\")\n",
    "class B():\n",
    "    def __init__(self):\n",
    "        pass\n",
    "    def action_greeting(self):\n",
    "        print(\"Action from B\")\n",
    "class C(B,A):\n",
    "    def __init__(self):\n",
    "        pass\n",
    "    # def action_greeting(self):\n",
    "    #     print(\"Action from C\")"
   ]
  },
  {
   "cell_type": "code",
   "execution_count": 68,
   "id": "f597fa8e-074b-4f0e-9751-c8c68a1f41ef",
   "metadata": {},
   "outputs": [],
   "source": [
    "c = C()"
   ]
  },
  {
   "cell_type": "code",
   "execution_count": 69,
   "id": "f2b1cd24-84bd-4ac3-bafb-94defc077d0a",
   "metadata": {},
   "outputs": [
    {
     "name": "stdout",
     "output_type": "stream",
     "text": [
      "Action from B\n"
     ]
    }
   ],
   "source": [
    "c.action_greeting()"
   ]
  },
  {
   "cell_type": "code",
   "execution_count": null,
   "id": "51281f3a-b0f1-4d72-988d-d40c050946b4",
   "metadata": {},
   "outputs": [],
   "source": []
  }
 ],
 "metadata": {
  "kernelspec": {
   "display_name": "Python 3 (ipykernel)",
   "language": "python",
   "name": "python3"
  },
  "language_info": {
   "codemirror_mode": {
    "name": "ipython",
    "version": 3
   },
   "file_extension": ".py",
   "mimetype": "text/x-python",
   "name": "python",
   "nbconvert_exporter": "python",
   "pygments_lexer": "ipython3",
   "version": "3.11.3"
  }
 },
 "nbformat": 4,
 "nbformat_minor": 5
}
