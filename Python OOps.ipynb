{
 "cells": [
  {
   "cell_type": "code",
   "execution_count": 28,
   "id": "3ef58c8b-5f2d-4fa1-995d-87ea45781d7e",
   "metadata": {},
   "outputs": [],
   "source": [
    "## Classes are digested by Python Interpreter\n",
    "class Human:\n",
    "    # Class variable/Property\n",
    "    human_count = 0\n",
    "    # Constructor\n",
    "    def __init__(self):\n",
    "        #Instance Variables/Properties\n",
    "        self.eyes = 2\n",
    "        self.legs = 2\n",
    "        self.nose = 1\n",
    "    def __init__(self,ears):\n",
    "        self.eyes = 2\n",
    "        self.legs = 2\n",
    "        self.nose = 1\n",
    "        self.ears = ears\n",
    "    # Instance Methods\n",
    "    def think(self):\n",
    "        print(f\"Human is thinking.....\")\n",
    "    # Instance Methods\n",
    "    def eat(self):\n",
    "        print(f\"Human is eating.....\")\n",
    "    @classmethod\n",
    "    def dummy():\n",
    "        print(f\"Its a dummy\")\n",
    "    @staticmethod\n",
    "    def dummy2():\n",
    "        print(f\"Its a dummy 2\")"
   ]
  },
  {
   "cell_type": "code",
   "execution_count": 30,
   "id": "f06e6037-8191-4312-8def-87fb88a77daa",
   "metadata": {},
   "outputs": [],
   "source": [
    "person1 = Human(2)"
   ]
  },
  {
   "cell_type": "code",
   "execution_count": 3,
   "id": "cea0e519-a50f-4329-ab19-3c441e6b845c",
   "metadata": {},
   "outputs": [
    {
     "data": {
      "text/plain": [
       "2"
      ]
     },
     "execution_count": 3,
     "metadata": {},
     "output_type": "execute_result"
    }
   ],
   "source": [
    "person1.eyes"
   ]
  },
  {
   "cell_type": "code",
   "execution_count": 4,
   "id": "3751ee67-97ae-4538-9569-a1c7f40c06ac",
   "metadata": {},
   "outputs": [
    {
     "data": {
      "text/plain": [
       "2"
      ]
     },
     "execution_count": 4,
     "metadata": {},
     "output_type": "execute_result"
    }
   ],
   "source": [
    "person1.legs"
   ]
  },
  {
   "cell_type": "code",
   "execution_count": 5,
   "id": "95f9e0d0-5f2a-44f3-93a9-68e50a37b8d5",
   "metadata": {},
   "outputs": [
    {
     "data": {
      "text/plain": [
       "1"
      ]
     },
     "execution_count": 5,
     "metadata": {},
     "output_type": "execute_result"
    }
   ],
   "source": [
    "person1.nose"
   ]
  },
  {
   "cell_type": "code",
   "execution_count": 6,
   "id": "31cd9bfc-0416-4f05-a0ee-cd9ef9d82bba",
   "metadata": {},
   "outputs": [
    {
     "name": "stdout",
     "output_type": "stream",
     "text": [
      "Human is thinking.....\n"
     ]
    }
   ],
   "source": [
    "person1.think()"
   ]
  },
  {
   "cell_type": "code",
   "execution_count": 8,
   "id": "d94cad1d-1360-44cb-b74a-600672e5154d",
   "metadata": {},
   "outputs": [
    {
     "name": "stdout",
     "output_type": "stream",
     "text": [
      "Human is eating.....\n"
     ]
    }
   ],
   "source": [
    "person1.eat()"
   ]
  },
  {
   "cell_type": "code",
   "execution_count": 14,
   "id": "ec4c701f-0401-40a8-a0e5-368c9d13738d",
   "metadata": {},
   "outputs": [
    {
     "name": "stdout",
     "output_type": "stream",
     "text": [
      "Its a dummy\n"
     ]
    }
   ],
   "source": [
    "Human.dummy()"
   ]
  },
  {
   "cell_type": "code",
   "execution_count": 18,
   "id": "561ecaea-e40a-4551-baef-e1baa7dae3e3",
   "metadata": {},
   "outputs": [],
   "source": [
    "person2 = Human()"
   ]
  },
  {
   "cell_type": "code",
   "execution_count": 23,
   "id": "771a31d1-aea6-4eba-9634-ffceb822194a",
   "metadata": {},
   "outputs": [
    {
     "data": {
      "text/plain": [
       "0"
      ]
     },
     "execution_count": 23,
     "metadata": {},
     "output_type": "execute_result"
    }
   ],
   "source": [
    "person1.human_count"
   ]
  },
  {
   "cell_type": "code",
   "execution_count": 24,
   "id": "9c2d55d3-b8fa-4981-9929-61c10c771c4c",
   "metadata": {},
   "outputs": [
    {
     "data": {
      "text/plain": [
       "0"
      ]
     },
     "execution_count": 24,
     "metadata": {},
     "output_type": "execute_result"
    }
   ],
   "source": [
    "person2.human_count"
   ]
  },
  {
   "cell_type": "code",
   "execution_count": 25,
   "id": "1119e8f2-bdd7-4aa8-b1f4-ee8b75d1eca3",
   "metadata": {},
   "outputs": [
    {
     "data": {
      "text/plain": [
       "0"
      ]
     },
     "execution_count": 25,
     "metadata": {},
     "output_type": "execute_result"
    }
   ],
   "source": [
    "Human.human_count"
   ]
  },
  {
   "cell_type": "code",
   "execution_count": 26,
   "id": "60a12951-e6ed-416c-9d92-cd4d8202ea67",
   "metadata": {},
   "outputs": [],
   "source": [
    "class Parrot:\n",
    "    pass"
   ]
  },
  {
   "cell_type": "code",
   "execution_count": 27,
   "id": "e0900cfd-121c-4993-b2fa-079648da7a4e",
   "metadata": {},
   "outputs": [],
   "source": [
    "parrot = Parrot()"
   ]
  },
  {
   "cell_type": "code",
   "execution_count": null,
   "id": "0bb434d9-f08a-40b8-8468-25115c88fedd",
   "metadata": {},
   "outputs": [],
   "source": []
  }
 ],
 "metadata": {
  "kernelspec": {
   "display_name": "Python 3 (ipykernel)",
   "language": "python",
   "name": "python3"
  },
  "language_info": {
   "codemirror_mode": {
    "name": "ipython",
    "version": 3
   },
   "file_extension": ".py",
   "mimetype": "text/x-python",
   "name": "python",
   "nbconvert_exporter": "python",
   "pygments_lexer": "ipython3",
   "version": "3.11.3"
  }
 },
 "nbformat": 4,
 "nbformat_minor": 5
}
