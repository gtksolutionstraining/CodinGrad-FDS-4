{
 "cells": [
  {
   "cell_type": "markdown",
   "id": "e5080714-f81c-4c85-b41c-8eb65a1f8d4f",
   "metadata": {},
   "source": [
    "# Files\n",
    "- open is a function in python used for creating and reading files\n",
    "- file modes\n",
    "- \"read mode\", \"write mode\", \"append mode\"\n",
    "- read mode ==> Once you open a  file which is already existing then you are only allowed to read the content. --> (r)\n",
    "- File can be read only once.\n",
    "- read() function will read the whole content of the file.\n",
    "- If you didn't close the file, you will get resource busy error.\n",
    "- write mode ==> read and write the file, if file is not there it will create a new file --> will remove the existing content --> (w)\n",
    "- append mode ==> read and write the file. But it will not emptying existing content --> (a)"
   ]
  },
  {
   "cell_type": "code",
   "execution_count": 28,
   "id": "1644951e-17da-4c81-9f04-f8a4660f6c02",
   "metadata": {},
   "outputs": [],
   "source": [
    "file = open(\"sample.txt\",\"w\")"
   ]
  },
  {
   "cell_type": "code",
   "execution_count": 21,
   "id": "4da2e79a",
   "metadata": {},
   "outputs": [
    {
     "data": {
      "text/plain": [
       "'Hello World!I am Chitti 1.O\\nHello\\nHi\\nHow are you?'"
      ]
     },
     "execution_count": 21,
     "metadata": {},
     "output_type": "execute_result"
    }
   ],
   "source": [
    "file.read()"
   ]
  },
  {
   "cell_type": "code",
   "execution_count": 22,
   "id": "e8d19ecf",
   "metadata": {},
   "outputs": [
    {
     "data": {
      "text/plain": [
       "0"
      ]
     },
     "execution_count": 22,
     "metadata": {},
     "output_type": "execute_result"
    }
   ],
   "source": [
    "file.seek(0)"
   ]
  },
  {
   "cell_type": "code",
   "execution_count": 23,
   "id": "1745c3fe",
   "metadata": {},
   "outputs": [
    {
     "data": {
      "text/plain": [
       "['Hello World!I am Chitti 1.O\\n', 'Hello\\n', 'Hi\\n', 'How are you?']"
      ]
     },
     "execution_count": 23,
     "metadata": {},
     "output_type": "execute_result"
    }
   ],
   "source": [
    "file.readlines()"
   ]
  },
  {
   "cell_type": "code",
   "execution_count": 24,
   "id": "2f8c53a0",
   "metadata": {},
   "outputs": [],
   "source": [
    "file.close()"
   ]
  },
  {
   "cell_type": "code",
   "execution_count": 29,
   "id": "2dd6a790-fae4-4f2f-ba9d-e89fbc774ca7",
   "metadata": {},
   "outputs": [
    {
     "data": {
      "text/plain": [
       "12"
      ]
     },
     "execution_count": 29,
     "metadata": {},
     "output_type": "execute_result"
    }
   ],
   "source": [
    "file.write(\"Hello World!\")"
   ]
  },
  {
   "cell_type": "code",
   "execution_count": 30,
   "id": "6dc77d75",
   "metadata": {},
   "outputs": [],
   "source": [
    "file.writelines([\"Hello\\n\",\"Hi\\n\",\"How are you\\n\"])"
   ]
  },
  {
   "cell_type": "code",
   "execution_count": 31,
   "id": "1a03c1d8-d84a-4140-94ea-47e74596df28",
   "metadata": {},
   "outputs": [],
   "source": [
    "file.flush()"
   ]
  },
  {
   "cell_type": "code",
   "execution_count": 32,
   "id": "5d302a34-db7a-4bbd-9b75-7472d1509a7d",
   "metadata": {},
   "outputs": [],
   "source": [
    "file.close()"
   ]
  },
  {
   "cell_type": "code",
   "execution_count": 33,
   "id": "1a224699-8898-4be2-a26f-21e3da284f22",
   "metadata": {},
   "outputs": [],
   "source": [
    "file = open('sample.txt','w')"
   ]
  },
  {
   "cell_type": "code",
   "execution_count": 34,
   "id": "a1d9c2b4-d752-4663-9985-59ebe076bf48",
   "metadata": {},
   "outputs": [
    {
     "data": {
      "text/plain": [
       "12"
      ]
     },
     "execution_count": 34,
     "metadata": {},
     "output_type": "execute_result"
    }
   ],
   "source": [
    "file.write('Hello World!')"
   ]
  },
  {
   "cell_type": "code",
   "execution_count": 35,
   "id": "afc74cdc-246a-4da3-94cf-5f60b9fc2aac",
   "metadata": {},
   "outputs": [],
   "source": [
    "file.close()"
   ]
  },
  {
   "cell_type": "code",
   "execution_count": 36,
   "id": "2b191168-5d7a-43fa-b03a-36b828bf8ce6",
   "metadata": {},
   "outputs": [],
   "source": [
    "file = open(\"sample.txt\",\"a\")"
   ]
  },
  {
   "cell_type": "code",
   "execution_count": 37,
   "id": "42fce9fe-e981-4cfa-b01b-67ae9fb80a07",
   "metadata": {},
   "outputs": [
    {
     "data": {
      "text/plain": [
       "15"
      ]
     },
     "execution_count": 37,
     "metadata": {},
     "output_type": "execute_result"
    }
   ],
   "source": [
    "file.write(\"I am Chitti 1.O\")"
   ]
  },
  {
   "cell_type": "code",
   "execution_count": 38,
   "id": "45a2b738-5dbf-4cc1-9440-762b038cf5b4",
   "metadata": {},
   "outputs": [],
   "source": [
    "file.close()"
   ]
  },
  {
   "cell_type": "code",
   "execution_count": 39,
   "id": "c163a010-c676-4011-932b-7c4914034206",
   "metadata": {},
   "outputs": [],
   "source": [
    "## Contextual file handling"
   ]
  },
  {
   "cell_type": "code",
   "execution_count": 47,
   "id": "060cb560",
   "metadata": {},
   "outputs": [],
   "source": [
    "with open(\"sample.txt\",\"r\") as file:\n",
    "    data = file.read()"
   ]
  },
  {
   "cell_type": "code",
   "execution_count": 46,
   "id": "d886b774",
   "metadata": {},
   "outputs": [
    {
     "data": {
      "text/plain": [
       "'Hello World!I am Chitti 1.O'"
      ]
     },
     "execution_count": 46,
     "metadata": {},
     "output_type": "execute_result"
    }
   ],
   "source": [
    "data"
   ]
  },
  {
   "cell_type": "markdown",
   "id": "d409dc29",
   "metadata": {},
   "source": [
    "# JSON Files\n",
    "- JSON files will be handled using json module\n",
    "- JSON and Dictionaries are interlinked\n",
    "- Dictionary is in-memory-data element\n",
    "- JSON is persistent data element\n",
    "- JSON file --> Key value pairs\n",
    "- JSON file --> Every string will be enclosed by \"\""
   ]
  },
  {
   "cell_type": "code",
   "execution_count": 48,
   "id": "54c25d74",
   "metadata": {},
   "outputs": [],
   "source": [
    "import json"
   ]
  },
  {
   "cell_type": "code",
   "execution_count": 49,
   "id": "da72e0cb",
   "metadata": {},
   "outputs": [],
   "source": [
    "LMS = {}\n",
    "LMS['Admins'] = [\n",
    "    {\n",
    "        \"USER\":\"CodinGrad\",\n",
    "        \"PASSWORD\":\"CodinGrad\"\n",
    "    }\n",
    "]\n",
    "LMS['Books'] = {}\n",
    "LMS['Books']['CSE'] = {}\n",
    "LMS['Books']['CSE']['1stYr'] = {}\n",
    "LMS['Books']['CSE']['1stYr']['1stSem'] = [] #List of Books of CSE,1styr,1stsem\n",
    "LMS['Students'] = {}\n",
    "LMS['Students']['CSE'] = {}\n",
    "LMS['Students']['CSE']['1stYr'] = {}\n",
    "LMS['Students']['CSE']['1stYr']['1stSem'] = [] #List of students of CSE,1styr,1stsem\n",
    "LMS['Teachers'] = {}\n",
    "LMS['Teachers']['CSE'] = [] #List of Teachers in dept"
   ]
  },
  {
   "cell_type": "code",
   "execution_count": 50,
   "id": "ced22d6c",
   "metadata": {},
   "outputs": [
    {
     "data": {
      "text/plain": [
       "{'Admins': [{'USER': 'CodinGrad', 'PASSWORD': 'CodinGrad'}],\n",
       " 'Books': {'CSE': {'1stYr': {'1stSem': []}}},\n",
       " 'Students': {'CSE': {'1stYr': {'1stSem': []}}},\n",
       " 'Teachers': {'CSE': []}}"
      ]
     },
     "execution_count": 50,
     "metadata": {},
     "output_type": "execute_result"
    }
   ],
   "source": [
    "LMS"
   ]
  },
  {
   "cell_type": "code",
   "execution_count": 51,
   "id": "563f8ea3",
   "metadata": {},
   "outputs": [],
   "source": [
    "with open(\"config.json\",\"w\") as file:\n",
    "    config = str(LMS)\n",
    "    config = config.replace('\\'','\"')\n",
    "    file.write(config)"
   ]
  },
  {
   "cell_type": "code",
   "execution_count": 52,
   "id": "419bc4e0",
   "metadata": {},
   "outputs": [],
   "source": [
    "with open(\"config.json\",\"r\") as file:\n",
    "    config_dict = json.load(file)"
   ]
  },
  {
   "cell_type": "code",
   "execution_count": 53,
   "id": "14af3c95",
   "metadata": {},
   "outputs": [
    {
     "data": {
      "text/plain": [
       "{'Admins': [{'USER': 'CodinGrad', 'PASSWORD': 'CodinGrad'}],\n",
       " 'Books': {'CSE': {'1stYr': {'1stSem': []}}},\n",
       " 'Students': {'CSE': {'1stYr': {'1stSem': []}}},\n",
       " 'Teachers': {'CSE': []}}"
      ]
     },
     "execution_count": 53,
     "metadata": {},
     "output_type": "execute_result"
    }
   ],
   "source": [
    "config_dict"
   ]
  },
  {
   "cell_type": "code",
   "execution_count": null,
   "id": "e67a84a2",
   "metadata": {},
   "outputs": [],
   "source": []
  }
 ],
 "metadata": {
  "kernelspec": {
   "display_name": "Python 3 (ipykernel)",
   "language": "python",
   "name": "python3"
  },
  "language_info": {
   "codemirror_mode": {
    "name": "ipython",
    "version": 3
   },
   "file_extension": ".py",
   "mimetype": "text/x-python",
   "name": "python",
   "nbconvert_exporter": "python",
   "pygments_lexer": "ipython3",
   "version": "3.11.3"
  }
 },
 "nbformat": 4,
 "nbformat_minor": 5
}
