{
 "cells": [
  {
   "cell_type": "markdown",
   "id": "e5080714-f81c-4c85-b41c-8eb65a1f8d4f",
   "metadata": {},
   "source": [
    "# Files\n",
    "- open is a function in python used for creating and reading files\n",
    "- file modes\n",
    "- \"read mode\", \"write mode\", \"append mode\"\n",
    "- read mode ==> Once you open a  file which is already existing then you are only allowed to read the content. --> (r)\n",
    "- write mode ==> read and write the file, if file is not there it will create a new file --> will remove the existing content --> (w)\n",
    "- append mode ==> read and write the file. But it will not emptying existing content --> (a)"
   ]
  },
  {
   "cell_type": "code",
   "execution_count": 2,
   "id": "1644951e-17da-4c81-9f04-f8a4660f6c02",
   "metadata": {},
   "outputs": [],
   "source": [
    "file = open(\"sample.txt\",\"w\")"
   ]
  },
  {
   "cell_type": "code",
   "execution_count": 4,
   "id": "2dd6a790-fae4-4f2f-ba9d-e89fbc774ca7",
   "metadata": {},
   "outputs": [
    {
     "data": {
      "text/plain": [
       "12"
      ]
     },
     "execution_count": 4,
     "metadata": {},
     "output_type": "execute_result"
    }
   ],
   "source": [
    "file.write(\"Hello World!\")"
   ]
  },
  {
   "cell_type": "code",
   "execution_count": 5,
   "id": "1a03c1d8-d84a-4140-94ea-47e74596df28",
   "metadata": {},
   "outputs": [],
   "source": [
    "file.flush()"
   ]
  },
  {
   "cell_type": "code",
   "execution_count": 6,
   "id": "5d302a34-db7a-4bbd-9b75-7472d1509a7d",
   "metadata": {},
   "outputs": [],
   "source": [
    "file.close()"
   ]
  },
  {
   "cell_type": "code",
   "execution_count": 7,
   "id": "1a224699-8898-4be2-a26f-21e3da284f22",
   "metadata": {},
   "outputs": [],
   "source": [
    "file = open('sample.txt','w')"
   ]
  },
  {
   "cell_type": "code",
   "execution_count": 8,
   "id": "a1d9c2b4-d752-4663-9985-59ebe076bf48",
   "metadata": {},
   "outputs": [
    {
     "data": {
      "text/plain": [
       "12"
      ]
     },
     "execution_count": 8,
     "metadata": {},
     "output_type": "execute_result"
    }
   ],
   "source": [
    "file.write('Hello World!')"
   ]
  },
  {
   "cell_type": "code",
   "execution_count": 10,
   "id": "afc74cdc-246a-4da3-94cf-5f60b9fc2aac",
   "metadata": {},
   "outputs": [],
   "source": [
    "file.close()"
   ]
  },
  {
   "cell_type": "code",
   "execution_count": 11,
   "id": "2b191168-5d7a-43fa-b03a-36b828bf8ce6",
   "metadata": {},
   "outputs": [],
   "source": [
    "file = open(\"sample.txt\",\"a\")"
   ]
  },
  {
   "cell_type": "code",
   "execution_count": 12,
   "id": "42fce9fe-e981-4cfa-b01b-67ae9fb80a07",
   "metadata": {},
   "outputs": [
    {
     "data": {
      "text/plain": [
       "15"
      ]
     },
     "execution_count": 12,
     "metadata": {},
     "output_type": "execute_result"
    }
   ],
   "source": [
    "file.write(\"I am Chitti 1.O\")"
   ]
  },
  {
   "cell_type": "code",
   "execution_count": 13,
   "id": "45a2b738-5dbf-4cc1-9440-762b038cf5b4",
   "metadata": {},
   "outputs": [],
   "source": [
    "file.close()"
   ]
  },
  {
   "cell_type": "code",
   "execution_count": null,
   "id": "c163a010-c676-4011-932b-7c4914034206",
   "metadata": {},
   "outputs": [],
   "source": []
  }
 ],
 "metadata": {
  "kernelspec": {
   "display_name": "Python 3 (ipykernel)",
   "language": "python",
   "name": "python3"
  },
  "language_info": {
   "codemirror_mode": {
    "name": "ipython",
    "version": 3
   },
   "file_extension": ".py",
   "mimetype": "text/x-python",
   "name": "python",
   "nbconvert_exporter": "python",
   "pygments_lexer": "ipython3",
   "version": "3.11.3"
  }
 },
 "nbformat": 4,
 "nbformat_minor": 5
}
