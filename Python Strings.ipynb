{
 "cells": [
  {
   "cell_type": "markdown",
   "id": "c5f0d454-67c0-4fe9-8f02-2adcd003bd13",
   "metadata": {},
   "source": [
    "# Strings\n",
    "- String is a sequence of characters\n",
    "- String is an immutable object --> Once created it can't be changed"
   ]
  },
  {
   "cell_type": "code",
   "execution_count": 14,
   "id": "5439c9f1-e2a3-4897-b222-1c4970223eda",
   "metadata": {},
   "outputs": [],
   "source": [
    "name = '''Hyderabad'''"
   ]
  },
  {
   "cell_type": "code",
   "execution_count": 12,
   "id": "62b294d8-7714-46d7-a6fa-6190a40d3eac",
   "metadata": {},
   "outputs": [
    {
     "data": {
      "text/plain": [
       "'Hyderabad'"
      ]
     },
     "execution_count": 12,
     "metadata": {},
     "output_type": "execute_result"
    }
   ],
   "source": [
    "name"
   ]
  },
  {
   "cell_type": "code",
   "execution_count": 13,
   "id": "8ca27cd1-b4b4-47e0-a686-0ae40f81b82e",
   "metadata": {},
   "outputs": [
    {
     "data": {
      "text/plain": [
       "str"
      ]
     },
     "execution_count": 13,
     "metadata": {},
     "output_type": "execute_result"
    }
   ],
   "source": [
    "type(name)"
   ]
  },
  {
   "cell_type": "code",
   "execution_count": 4,
   "id": "cc96e8fa-7290-4345-9328-1153f2fc2d17",
   "metadata": {},
   "outputs": [],
   "source": [
    "ch = 'a'"
   ]
  },
  {
   "cell_type": "code",
   "execution_count": 5,
   "id": "1f802244-b6dc-44f5-9d37-8a898a644fab",
   "metadata": {},
   "outputs": [
    {
     "data": {
      "text/plain": [
       "str"
      ]
     },
     "execution_count": 5,
     "metadata": {},
     "output_type": "execute_result"
    }
   ],
   "source": [
    "type(ch)"
   ]
  },
  {
   "cell_type": "code",
   "execution_count": 6,
   "id": "682cf011-f214-4b63-90af-5800610ae1d6",
   "metadata": {},
   "outputs": [],
   "source": [
    "ch = ''"
   ]
  },
  {
   "cell_type": "code",
   "execution_count": 7,
   "id": "400fa0b1-991b-4773-8f14-48aecf2a1877",
   "metadata": {},
   "outputs": [
    {
     "data": {
      "text/plain": [
       "str"
      ]
     },
     "execution_count": 7,
     "metadata": {},
     "output_type": "execute_result"
    }
   ],
   "source": [
    "type(ch)"
   ]
  },
  {
   "cell_type": "markdown",
   "id": "1ec9102e-b5f6-41c4-9023-9b993de4f2a8",
   "metadata": {},
   "source": [
    "# Assigning String literals\n",
    "- To assign a string literal to a variable  we have to use \"\" to indicate the string literal ==> JSON files\n",
    "- The string can also be enclosed by '' ===> General things\n",
    "- The string can also be enclosed by '''''' ===> SQL Queries\n",
    "\n",
    "In general we use '' mostly for string literals\n",
    "- Python treats string literals by SOS, EOS tokens\n",
    "- SOS -- '\n",
    "- EOS -- '\n",
    "- Escape character -- \\"
   ]
  },
  {
   "cell_type": "code",
   "execution_count": null,
   "id": "bb67510b-fdb5-4729-8b66-abc420e3f0d6",
   "metadata": {},
   "outputs": [],
   "source": []
  },
  {
   "cell_type": "code",
   "execution_count": 16,
   "id": "a391bc84-efef-4069-b13a-b2a2c721d92d",
   "metadata": {},
   "outputs": [],
   "source": [
    "statement = 'Tharun\\'s laptop got damaged'"
   ]
  },
  {
   "cell_type": "code",
   "execution_count": 27,
   "id": "ac8fe245-1792-4dc9-9297-253defbaab5c",
   "metadata": {
    "scrolled": true
   },
   "outputs": [
    {
     "data": {
      "text/plain": [
       "'He said, \"Tharun\\'s latpot got damaged\"'"
      ]
     },
     "execution_count": 27,
     "metadata": {},
     "output_type": "execute_result"
    }
   ],
   "source": [
    "statement"
   ]
  },
  {
   "cell_type": "code",
   "execution_count": 18,
   "id": "d0ecb090-de54-4fe2-bb59-b71af77199c1",
   "metadata": {},
   "outputs": [],
   "source": [
    "## SOS = \" , EOS = \"\n",
    "statement = \"Tharun's laptop got damaged\""
   ]
  },
  {
   "cell_type": "code",
   "execution_count": 19,
   "id": "10428aa8-1969-49ae-920d-63047285802a",
   "metadata": {},
   "outputs": [
    {
     "data": {
      "text/plain": [
       "\"Tharun's laptop got damaged\""
      ]
     },
     "execution_count": 19,
     "metadata": {},
     "output_type": "execute_result"
    }
   ],
   "source": [
    "statement"
   ]
  },
  {
   "cell_type": "code",
   "execution_count": 25,
   "id": "e8ee0b96-54cb-418d-b1d6-0e3dfba273ed",
   "metadata": {},
   "outputs": [],
   "source": [
    "statement = \"He said, \\\"Tharun's latpot got damaged\\\"\""
   ]
  },
  {
   "cell_type": "code",
   "execution_count": 26,
   "id": "feaea606-b04e-4ded-b6d8-15ab8c46daba",
   "metadata": {},
   "outputs": [
    {
     "data": {
      "text/plain": [
       "'He said, \"Tharun\\'s latpot got damaged\"'"
      ]
     },
     "execution_count": 26,
     "metadata": {},
     "output_type": "execute_result"
    }
   ],
   "source": [
    "statement"
   ]
  },
  {
   "cell_type": "code",
   "execution_count": 28,
   "id": "810b1331-fd27-45df-9bf9-badc60d64621",
   "metadata": {},
   "outputs": [],
   "source": [
    "statement = 'He said, \"Tharun\\'s latpot got damaged\"'"
   ]
  },
  {
   "cell_type": "code",
   "execution_count": 29,
   "id": "ca5b2da0-106e-490b-b864-68f9b91ffbe8",
   "metadata": {},
   "outputs": [
    {
     "data": {
      "text/plain": [
       "'He said, \"Tharun\\'s latpot got damaged\"'"
      ]
     },
     "execution_count": 29,
     "metadata": {},
     "output_type": "execute_result"
    }
   ],
   "source": [
    "statement"
   ]
  },
  {
   "cell_type": "code",
   "execution_count": 30,
   "id": "45804070-50d1-42ed-9b9c-d7c61c787647",
   "metadata": {},
   "outputs": [],
   "source": [
    "statement = '''He Said, \"Tharun's laptop got damaged\"'''"
   ]
  },
  {
   "cell_type": "code",
   "execution_count": 31,
   "id": "2a715b41-399b-4b2f-8833-f6bba1dd7548",
   "metadata": {},
   "outputs": [
    {
     "data": {
      "text/plain": [
       "'He Said, \"Tharun\\'s laptop got damaged\"'"
      ]
     },
     "execution_count": 31,
     "metadata": {},
     "output_type": "execute_result"
    }
   ],
   "source": [
    "statement"
   ]
  },
  {
   "cell_type": "code",
   "execution_count": 32,
   "id": "16093a79-ca1a-4f42-b85c-b744ad157fee",
   "metadata": {},
   "outputs": [
    {
     "data": {
      "text/plain": [
       "'Hyderabad'"
      ]
     },
     "execution_count": 32,
     "metadata": {},
     "output_type": "execute_result"
    }
   ],
   "source": [
    "name"
   ]
  },
  {
   "cell_type": "code",
   "execution_count": 33,
   "id": "84df5f6d-04c4-4274-ad26-36447c17022f",
   "metadata": {},
   "outputs": [
    {
     "data": {
      "text/plain": [
       "9"
      ]
     },
     "execution_count": 33,
     "metadata": {},
     "output_type": "execute_result"
    }
   ],
   "source": [
    "len(name)"
   ]
  },
  {
   "cell_type": "code",
   "execution_count": 34,
   "id": "7cd51f7f-6390-4c6e-9c4f-3a627322f2b5",
   "metadata": {},
   "outputs": [],
   "source": [
    "first_name = 'Tharun'\n",
    "last_name = 'Kumar'"
   ]
  },
  {
   "cell_type": "code",
   "execution_count": 35,
   "id": "dcd970ac-2270-4a47-ad1d-c4af615071bd",
   "metadata": {},
   "outputs": [
    {
     "data": {
      "text/plain": [
       "4"
      ]
     },
     "execution_count": 35,
     "metadata": {},
     "output_type": "execute_result"
    }
   ],
   "source": [
    "2+2 # mathematical additioon"
   ]
  },
  {
   "cell_type": "code",
   "execution_count": 36,
   "id": "898cd8d6-928c-4d7e-9ed5-4befb2f7802c",
   "metadata": {},
   "outputs": [
    {
     "data": {
      "text/plain": [
       "'TharunKumar'"
      ]
     },
     "execution_count": 36,
     "metadata": {},
     "output_type": "execute_result"
    }
   ],
   "source": [
    "first_name+last_name # string concatenation"
   ]
  },
  {
   "cell_type": "markdown",
   "id": "e8fdb564-58e6-40d6-ae18-ca61f7241301",
   "metadata": {},
   "source": [
    "# f Strings\n",
    "- Strings should be started with f"
   ]
  },
  {
   "cell_type": "code",
   "execution_count": 42,
   "id": "0fe1efc1-b65a-4552-8b2b-f14fd44e2b1a",
   "metadata": {},
   "outputs": [],
   "source": [
    "full_name = f'{first_name} {last_name}'"
   ]
  },
  {
   "cell_type": "code",
   "execution_count": 53,
   "id": "0a5512c5-6ee4-4599-a1a0-0664e4b36aea",
   "metadata": {},
   "outputs": [
    {
     "data": {
      "text/plain": [
       "'Therun Kumar'"
      ]
     },
     "execution_count": 53,
     "metadata": {},
     "output_type": "execute_result"
    }
   ],
   "source": [
    "full_name"
   ]
  },
  {
   "cell_type": "code",
   "execution_count": 47,
   "id": "132835c4-ee29-4eba-ae08-fe3c1d1ae675",
   "metadata": {},
   "outputs": [],
   "source": [
    "greeting = f'Hello {first_name} {last_name}!'"
   ]
  },
  {
   "cell_type": "code",
   "execution_count": 57,
   "id": "f8a92ee0-ef14-4fec-87ed-18b8f8d037bd",
   "metadata": {},
   "outputs": [
    {
     "data": {
      "text/plain": [
       "'Hello Tharun Kumar!'"
      ]
     },
     "execution_count": 57,
     "metadata": {},
     "output_type": "execute_result"
    }
   ],
   "source": [
    "greeting"
   ]
  },
  {
   "cell_type": "markdown",
   "id": "71032482-77f1-408b-8f81-4a2a5a89e591",
   "metadata": {},
   "source": [
    "# String Extraction\n",
    "- String Indexing\n",
    "- String indices starts from 0\n",
    "- We can't update the string inplace ==> Immutability\n",
    "\n",
    "# String Slicing\n",
    "- Slice Formulae --> The portion --> starting index, end position"
   ]
  },
  {
   "cell_type": "code",
   "execution_count": 55,
   "id": "eb9bab64-d65f-4a88-b124-b811a03e3eca",
   "metadata": {},
   "outputs": [
    {
     "ename": "TypeError",
     "evalue": "'str' object does not support item assignment",
     "output_type": "error",
     "traceback": [
      "\u001b[0;31m---------------------------------------------------------------------------\u001b[0m",
      "\u001b[0;31mTypeError\u001b[0m                                 Traceback (most recent call last)",
      "Cell \u001b[0;32mIn[55], line 1\u001b[0m\n\u001b[0;32m----> 1\u001b[0m \u001b[43mfull_name\u001b[49m\u001b[43m[\u001b[49m\u001b[38;5;241;43m2\u001b[39;49m\u001b[43m]\u001b[49m \u001b[38;5;241m=\u001b[39m \u001b[38;5;124m'\u001b[39m\u001b[38;5;124me\u001b[39m\u001b[38;5;124m'\u001b[39m\n",
      "\u001b[0;31mTypeError\u001b[0m: 'str' object does not support item assignment"
     ]
    }
   ],
   "source": [
    "full_name[2] = 'e'"
   ]
  },
  {
   "cell_type": "code",
   "execution_count": 56,
   "id": "32e1368e-9676-43b4-9952-8aae6af35499",
   "metadata": {},
   "outputs": [],
   "source": [
    "full_name = 'Therun Kumar'"
   ]
  },
  {
   "cell_type": "code",
   "execution_count": 58,
   "id": "82f20126-2cac-4b0d-81ee-585fae9cf553",
   "metadata": {},
   "outputs": [
    {
     "data": {
      "text/plain": [
       "'Hello Tharun Kumar!'"
      ]
     },
     "execution_count": 58,
     "metadata": {},
     "output_type": "execute_result"
    }
   ],
   "source": [
    "greeting"
   ]
  },
  {
   "cell_type": "code",
   "execution_count": 62,
   "id": "c455c650-ebe5-412d-b01c-6e2c1368ed4c",
   "metadata": {},
   "outputs": [
    {
     "data": {
      "text/plain": [
       "'Tharun'"
      ]
     },
     "execution_count": 62,
     "metadata": {},
     "output_type": "execute_result"
    }
   ],
   "source": [
    "greeting[6:12]"
   ]
  },
  {
   "cell_type": "code",
   "execution_count": null,
   "id": "e1174e51-1116-4f39-9a8f-62392aa21350",
   "metadata": {},
   "outputs": [],
   "source": []
  }
 ],
 "metadata": {
  "kernelspec": {
   "display_name": "Python 3 (ipykernel)",
   "language": "python",
   "name": "python3"
  },
  "language_info": {
   "codemirror_mode": {
    "name": "ipython",
    "version": 3
   },
   "file_extension": ".py",
   "mimetype": "text/x-python",
   "name": "python",
   "nbconvert_exporter": "python",
   "pygments_lexer": "ipython3",
   "version": "3.11.3"
  }
 },
 "nbformat": 4,
 "nbformat_minor": 5
}
