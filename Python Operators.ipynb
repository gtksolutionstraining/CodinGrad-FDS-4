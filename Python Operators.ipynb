{
 "cells": [
  {
   "cell_type": "markdown",
   "id": "5430f74b-124d-424e-afb0-a72809b37857",
   "metadata": {},
   "source": [
    "# Operators\n",
    "- '=' This is called an assignment operator but not equalto operator\n",
    "- '+', '-', '*', '/' These are arithmetic operators\n",
    "- '+=', '-=', '*=', '/=' These are called implicit arithmetic operators --> More faster in computation compare to arithmetic operators\n",
    "- '<<', '>>' These are shift operators --> multiply by 2 and divide by 2 using 1\n",
    "- String concatenation operator \"+\"\n",
    "- Operator Overloading \"+\" --> is acting as addition operator, string concatenation operator and also list concatenation operator\n",
    "- \"+\" is not supported in sets\n",
    "- Operator Overloading \"-\" --> acts as subtraction in numbers, set difference in sets"
   ]
  },
  {
   "cell_type": "markdown",
   "id": "0ea25916-c4ae-4e1d-a9b5-81762bda8eb1",
   "metadata": {},
   "source": [
    "# Arithmetic Operators\n",
    "- int (+,-,*) int = int\n",
    "- int / int = float\n",
    "- float (+,-,*,/) int = float\n",
    "- int (+,-,*,/) float = float\n",
    "- float (+,-,*,/) float = float"
   ]
  },
  {
   "cell_type": "markdown",
   "id": "81892bbc-d7f6-489b-90d2-3f030cbf4020",
   "metadata": {},
   "source": [
    "# Other Operators\n",
    "- \"in\" --> will take LHS and RHS and return Boolean Type (True/False)\n",
    "- \"str.join\" --> will take the LHS and RHS\n",
    "- - LHS --> is delimeter\n",
    "  - RHS --> List --> String --> Will convert into sequence\n",
    "- Indexing Operators\n",
    "- = --> Assignment operator"
   ]
  },
  {
   "cell_type": "markdown",
   "id": "0a0ef431-a357-47b1-8ea1-d91ad5fc5ced",
   "metadata": {},
   "source": [
    "# Modulus Operator\n",
    "- It will return reminder\n",
    "- %"
   ]
  },
  {
   "cell_type": "code",
   "execution_count": 1,
   "id": "26a889f8-f678-49df-a0eb-4250e83dc5f7",
   "metadata": {},
   "outputs": [
    {
     "data": {
      "text/plain": [
       "1.0"
      ]
     },
     "execution_count": 1,
     "metadata": {},
     "output_type": "execute_result"
    }
   ],
   "source": [
    "5/5"
   ]
  },
  {
   "cell_type": "code",
   "execution_count": 2,
   "id": "ff6df919-3c3c-4907-b7bb-6736c58dc82d",
   "metadata": {},
   "outputs": [
    {
     "data": {
      "text/plain": [
       "0"
      ]
     },
     "execution_count": 2,
     "metadata": {},
     "output_type": "execute_result"
    }
   ],
   "source": [
    "5%5"
   ]
  },
  {
   "cell_type": "code",
   "execution_count": 4,
   "id": "7ebedec1-237c-4b7f-9e15-f22b1d48e5de",
   "metadata": {},
   "outputs": [
    {
     "data": {
      "text/plain": [
       "1"
      ]
     },
     "execution_count": 4,
     "metadata": {},
     "output_type": "execute_result"
    }
   ],
   "source": [
    "5%2"
   ]
  },
  {
   "cell_type": "code",
   "execution_count": 5,
   "id": "4d91e60d-9a86-4413-b392-11694d0263e9",
   "metadata": {},
   "outputs": [
    {
     "data": {
      "text/plain": [
       "10"
      ]
     },
     "execution_count": 5,
     "metadata": {},
     "output_type": "execute_result"
    }
   ],
   "source": [
    "10"
   ]
  },
  {
   "cell_type": "code",
   "execution_count": 6,
   "id": "48a54221-3a49-4ec4-ad89-73eb347e66bd",
   "metadata": {},
   "outputs": [
    {
     "data": {
      "text/plain": [
       "0"
      ]
     },
     "execution_count": 6,
     "metadata": {},
     "output_type": "execute_result"
    }
   ],
   "source": [
    "10%2"
   ]
  },
  {
   "cell_type": "code",
   "execution_count": 7,
   "id": "6e095553-79dc-4529-b120-b09a927717b7",
   "metadata": {},
   "outputs": [
    {
     "data": {
      "text/plain": [
       "1"
      ]
     },
     "execution_count": 7,
     "metadata": {},
     "output_type": "execute_result"
    }
   ],
   "source": [
    "11%2"
   ]
  },
  {
   "cell_type": "code",
   "execution_count": null,
   "id": "1986c38e-3894-4cf3-a309-bef45bd9344f",
   "metadata": {},
   "outputs": [],
   "source": []
  }
 ],
 "metadata": {
  "kernelspec": {
   "display_name": "Python 3 (ipykernel)",
   "language": "python",
   "name": "python3"
  },
  "language_info": {
   "codemirror_mode": {
    "name": "ipython",
    "version": 3
   },
   "file_extension": ".py",
   "mimetype": "text/x-python",
   "name": "python",
   "nbconvert_exporter": "python",
   "pygments_lexer": "ipython3",
   "version": "3.11.3"
  }
 },
 "nbformat": 4,
 "nbformat_minor": 5
}
