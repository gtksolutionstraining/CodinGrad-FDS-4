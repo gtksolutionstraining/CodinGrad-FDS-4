{
 "cells": [
  {
   "cell_type": "markdown",
   "id": "5430f74b-124d-424e-afb0-a72809b37857",
   "metadata": {},
   "source": [
    "# Operators\n",
    "- '=' This is called an assignment operator but not equalto operator\n",
    "- '+', '-', '*', '/' These are arithmetic operators\n",
    "- '+=', '-=', '*=', '/=' These are called implicit arithmetic operators --> More faster in computation compare to arithmetic operators\n",
    "- '<<', '>>' These are shift operators --> multiply by 2 and divide by 2 using 1\n",
    "- String concatenation operator \"+\"\n",
    "- Operator Overloading \"+\" --> is acting as addition operator and also string concatenation operator"
   ]
  },
  {
   "cell_type": "markdown",
   "id": "0ea25916-c4ae-4e1d-a9b5-81762bda8eb1",
   "metadata": {},
   "source": [
    "# Arithmetic Operators\n",
    "- int (+,-,*) int = int\n",
    "- int / int = float\n",
    "- float (+,-,*,/) int = float\n",
    "- int (+,-,*,/) float = float\n",
    "- float (+,-,*,/) float = float"
   ]
  },
  {
   "cell_type": "code",
   "execution_count": null,
   "id": "b6e9e944-f7a8-4092-a777-8e6c41b18f43",
   "metadata": {},
   "outputs": [],
   "source": []
  }
 ],
 "metadata": {
  "kernelspec": {
   "display_name": "Python 3 (ipykernel)",
   "language": "python",
   "name": "python3"
  },
  "language_info": {
   "codemirror_mode": {
    "name": "ipython",
    "version": 3
   },
   "file_extension": ".py",
   "mimetype": "text/x-python",
   "name": "python",
   "nbconvert_exporter": "python",
   "pygments_lexer": "ipython3",
   "version": "3.11.3"
  }
 },
 "nbformat": 4,
 "nbformat_minor": 5
}
